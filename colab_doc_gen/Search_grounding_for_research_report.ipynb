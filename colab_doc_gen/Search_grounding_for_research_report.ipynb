{
  "cells": [
    {
      "cell_type": "markdown",
      "metadata": {
        "id": "lb5yiH5h8x3h"
      },
      "source": [
        "##### Copyright 2024 Google LLC."
      ]
    },
    {
      "cell_type": "code",
      "execution_count": null,
      "metadata": {
        "cellView": "form",
        "id": "906e07f6e562"
      },
      "outputs": [],
      "source": [
        "#@title Licensed under the Apache License, Version 2.0 (the \"License\");\n",
        "# you may not use this file except in compliance with the License.\n",
        "# You may obtain a copy of the License at\n",
        "#\n",
        "# https://www.apache.org/licenses/LICENSE-2.0\n",
        "#\n",
        "# Unless required by applicable law or agreed to in writing, software\n",
        "# distributed under the License is distributed on an \"AS IS\" BASIS,\n",
        "# WITHOUT WARRANTIES OR CONDITIONS OF ANY KIND, either express or implied.\n",
        "# See the License for the specific language governing permissions and\n",
        "# limitations under the License."
      ]
    },
    {
      "cell_type": "markdown",
      "metadata": {
        "id": "1YXR7Yn480fU"
      },
      "source": [
        "# Search tool with Gemini 2.0"
      ]
    },
    {
      "cell_type": "markdown",
      "metadata": {
        "id": "CeJyB7rG82ph"
      },
      "source": [
        "<table align=\"left\">\n",
        "  <td>\n",
        "    <a target=\"_blank\" href=\"https://colab.research.google.com/github/google-gemini/cookbook/blob/main/examples/Search_grounding_for_research_report.ipynb\"><img src=\"https://github.com/google-gemini/cookbook/blob/main/images/colab_logo_32px.png?raw=1\" />Run in Google Colab</a>\n",
        "  </td>\n",
        "</table>"
      ]
    },
    {
      "cell_type": "markdown",
      "metadata": {
        "id": "___eV40o8399"
      },
      "source": [
        "In this tutorial you are going to leverage the latest [search tool](https://ai.google.dev/gemini-api/docs/models/gemini-v2#search-tool) of the Gemini 2.0 model to write a company report. Note that the search tool is a paid ony feature and this tutorial does not work with a free tier API key.\n",
        "\n",
        "You may be asking, why does one need to use the search tool for this purpose? Well, as you may be aware, today's business world evolves very fast and LLMs generally are not trained frequently enough to capture the latest updates. Luckily Google search comes to the rescue. Google search is built to provide accurate and nearly realtime information and can help us fulfill this task perfectly.\n",
        "\n",
        "Note that while Gemini 1.5 models offered the [search grounding](https://ai.google.dev/gemini-api/docs/grounding) feature which may also help you achieve similar results (see [a previous notebook](https://github.com/google-gemini/cookbook/blob/gemini-1.5-archive/examples/Search_grounding_for_research_report.ipynb) using search grounding), the new search tool in Gemini 2.0 models is much more powerful and easier to use, and should be prioritized over search grounding. It is also possible to use multiple tools together (for example, search tool and function calling)."
      ]
    },
    {
      "cell_type": "markdown",
      "metadata": {
        "id": "Mfk6YY3G5kqp"
      },
      "source": [
        "## Setup"
      ]
    },
    {
      "cell_type": "markdown",
      "metadata": {
        "id": "d5027929de8f"
      },
      "source": [
        "### Install SDK\n",
        "\n",
        "The new **[Google Gen AI SDK](https://ai.google.dev/gemini-api/docs/sdks)** provides programmatic access to Gemini 2.0 (and previous models) using both the [Google AI for Developers](https://ai.google.dev/gemini-api/docs) and [Vertex AI](https://cloud.google.com/vertex-ai/generative-ai/docs/overview) APIs. With a few exceptions, code that runs on one platform will run on both. This means that you can prototype an application using the Developer API and then migrate the application to Vertex AI without rewriting your code.\n",
        "\n",
        "More details about this new SDK on the [documentation](https://ai.google.dev/gemini-api/docs/sdks) or in the [Getting started](../gemini-2/get_started.ipynb) notebook."
      ]
    },
    {
      "cell_type": "code",
      "execution_count": 9,
      "metadata": {
        "id": "46zEFO2a9FFd"
      },
      "outputs": [],
      "source": [
        "!pip install -U -q google-genai"
      ]
    },
    {
      "cell_type": "markdown",
      "metadata": {
        "id": "CTIfnvCn9HvH"
      },
      "source": [
        "### Setup your API key\n",
        "\n",
        "To run the following cell, your API key must be stored it in a Colab Secret named `GOOGLE_API_KEY`. If you don't already have an API key, or you're not sure how to create a Colab Secret, see [Authentication](../quickstarts/Authentication.ipynb) for an example."
      ]
    },
    {
      "cell_type": "code",
      "execution_count": 10,
      "metadata": {
        "id": "A1pkoyZb9Jm3"
      },
      "outputs": [],
      "source": [
        "from google.colab import userdata\n",
        "\n",
        "GOOGLE_API_KEY=userdata.get('GOOGLE_API_KEY')"
      ]
    },
    {
      "cell_type": "markdown",
      "metadata": {
        "id": "QclzsisW0nTK"
      },
      "source": [
        "### Import the libraries"
      ]
    },
    {
      "cell_type": "code",
      "execution_count": 11,
      "metadata": {
        "id": "cXNAAIqOuXlO"
      },
      "outputs": [],
      "source": [
        "from google import genai\n",
        "from google.genai.types import GenerateContentConfig, Tool\n",
        "from IPython.display import display, HTML, Markdown\n",
        "import io\n",
        "import json\n",
        "import re"
      ]
    },
    {
      "cell_type": "markdown",
      "metadata": {
        "id": "3Hx_Gw9i0Yuv"
      },
      "source": [
        "### Initialize SDK client\n",
        "\n",
        "With the new SDK you now only need to initialize a client with you API key (or OAuth if using [Vertex AI](https://cloud.google.com/vertex-ai)). The model is now set in each call."
      ]
    },
    {
      "cell_type": "code",
      "execution_count": 12,
      "metadata": {
        "id": "HghvVpbU0Uap"
      },
      "outputs": [],
      "source": [
        "client = genai.Client(api_key=GOOGLE_API_KEY)"
      ]
    },
    {
      "cell_type": "markdown",
      "metadata": {
        "id": "QOov6dpG99rY"
      },
      "source": [
        "### Select a model\n",
        "\n",
        "Search tool is a new feature in the Gemini 2.0 model that automatically retrieves accurate and grounded artifacts from the web for developers to further process. Unlike the search grounding in the Gemini 1.5 models, you do not need to set the dynamic retrieval threshold.\n",
        "\n",
        "For more information about all Gemini models, check the [documentation](https://ai.google.dev/gemini-api/docs/models/gemini) for extended information on each of them.\n"
      ]
    },
    {
      "cell_type": "code",
      "execution_count": 13,
      "metadata": {
        "id": "27Fikag0xSaB"
      },
      "outputs": [],
      "source": [
        "MODEL_ID = \"gemini-2.0-flash\" # @param [\"gemini-1.5-flash-latest\",\"gemini-2.0-flash-lite-preview-02-05\",\"gemini-2.0-flash\",\"gemini-2.0-pro-preview-02-05\"] {\"allow-input\":true}"
      ]
    },
    {
      "cell_type": "markdown",
      "metadata": {
        "id": "F9lFY3h6unY2"
      },
      "source": [
        "## Write the report with Gemini 2.0"
      ]
    },
    {
      "cell_type": "markdown",
      "metadata": {
        "id": "j562CvvWvASd"
      },
      "source": [
        "### Select a target company to research\n",
        "\n",
        "Next you will use Alphabet as an example research target."
      ]
    },
    {
      "cell_type": "code",
      "execution_count": 14,
      "metadata": {
        "id": "7UQxJr7UvEhl"
      },
      "outputs": [],
      "source": [
        "COMPANY = 'Alphabet' # @param {type:\"string\"}"
      ]
    },
    {
      "cell_type": "markdown",
      "metadata": {
        "id": "HALOE8He78H1"
      },
      "source": [
        "### Have Gemini 2.0 plan for the task and write the report\n",
        "\n",
        "Gemini 2.0 is a huge step up from previous models since it can reason, plan, search and write in one go. In this case, you will only give Gemini 2.0 a prompt to do all of these and the model will finish your task seamlessly. You will also using output streaming, which streams the response as it is being generated, and the model will return chunks of the response as soon as they are generated. If you would like the SDK to return a response after the model completes the entire generation process,  you can use the non-streaming approach as well.\n",
        "\n",
        "Note that you must enable Google Search Suggestions, which help users find search results corresponding to a grounded response, and [display the search queries](https://ai.google.dev/gemini-api/docs/grounding/search-suggestions#display-requirements) that are included in the grounded response's metadata. You can find [more details](https://ai.google.dev/gemini-api/terms#grounding-with-google-search) about this requirement."
      ]
    },
    {
      "cell_type": "code",
      "execution_count": 16,
      "metadata": {
        "id": "IAl2UGtw0LPG",
        "collapsed": true,
        "outputId": "ef9e56bb-6b74-41a0-bef9-83b3e75afdd9",
        "colab": {
          "base_uri": "https://localhost:8080/",
          "height": 1000
        }
      },
      "outputs": [
        {
          "output_type": "display_data",
          "data": {
            "text/plain": [
              "<IPython.core.display.Markdown object>"
            ],
            "text/markdown": "Okay"
          },
          "metadata": {}
        },
        {
          "output_type": "display_data",
          "data": {
            "text/plain": [
              "<IPython.core.display.Markdown object>"
            ],
            "text/markdown": ", I will"
          },
          "metadata": {}
        },
        {
          "output_type": "display_data",
          "data": {
            "text/plain": [
              "<IPython.core.display.Markdown object>"
            ],
            "text/markdown": " research Alphabet and create a company report. Here's my plan:\n\n1"
          },
          "metadata": {}
        },
        {
          "output_type": "display_data",
          "data": {
            "text/plain": [
              "<IPython.core.display.Markdown object>"
            ],
            "text/markdown": ".  **Company Overview:** I'll start with a general overview of Alphabet, including its"
          },
          "metadata": {}
        },
        {
          "output_type": "display_data",
          "data": {
            "text/plain": [
              "<IPython.core.display.Markdown object>"
            ],
            "text/markdown": " main business segments, mission, and key products/services.\n2.  **Recent News and Developments:** I'll look for recent news articles and press"
          },
          "metadata": {}
        },
        {
          "output_type": "display_data",
          "data": {
            "text/plain": [
              "<IPython.core.display.Markdown object>"
            ],
            "text/markdown": " releases to identify any significant updates, such as new product launches, partnerships, acquisitions, or financial results.\n3.  **Financial Performance:** I'll investigate"
          },
          "metadata": {}
        },
        {
          "output_type": "display_data",
          "data": {
            "text/plain": [
              "<IPython.core.display.Markdown object>"
            ],
            "text/markdown": " Alphabet's recent financial performance, including revenue, profit, and key financial ratios.\n4.  **Stock Performance:** I'll analyze Alphabet's stock performance, including its price trends and market capitalization.\n5.  **Competitive"
          },
          "metadata": {}
        },
        {
          "output_type": "display_data",
          "data": {
            "text/plain": [
              "<IPython.core.display.Markdown object>"
            ],
            "text/markdown": " Landscape:** I'll examine Alphabet's position in the competitive landscape, identifying its main competitors and their relative strengths and weaknesses.\n6.  **Future Outlook:** I'll try to gather information about Alphabet's future plans and growth"
          },
          "metadata": {}
        },
        {
          "output_type": "display_data",
          "data": {
            "text/plain": [
              "<IPython.core.display.Markdown object>"
            ],
            "text/markdown": " strategies.\n\nNow, I'll start the search process.\n\n"
          },
          "metadata": {}
        },
        {
          "output_type": "display_data",
          "data": {
            "text/plain": [
              "<IPython.core.display.Markdown object>"
            ],
            "text/markdown": "Okay"
          },
          "metadata": {}
        },
        {
          "output_type": "display_data",
          "data": {
            "text/plain": [
              "<IPython.core.display.Markdown object>"
            ],
            "text/markdown": ", I have gathered a lot of information about Alphabet. Here's a company"
          },
          "metadata": {}
        },
        {
          "output_type": "display_data",
          "data": {
            "text/plain": [
              "<IPython.core.display.Markdown object>"
            ],
            "text/markdown": " report:\n\n---\n\n**Alphabet Inc. Company Report**\n\n**Company Overview:**\n\n"
          },
          "metadata": {}
        },
        {
          "output_type": "display_data",
          "data": {
            "text/plain": [
              "<IPython.core.display.Markdown object>"
            ],
            "text/markdown": "Alphabet Inc. (NASDAQ: GOOG, GOOGL) is a global technology holding company and the parent company of Google and several other businesses. Its mission"
          },
          "metadata": {}
        },
        {
          "output_type": "display_data",
          "data": {
            "text/plain": [
              "<IPython.core.display.Markdown object>"
            ],
            "text/markdown": " is to organize the world's information and make it universally accessible and useful. Alphabet's main business segments include Google Services, Google Cloud, and Other Bets. Google"
          },
          "metadata": {}
        },
        {
          "output_type": "display_data",
          "data": {
            "text/plain": [
              "<IPython.core.display.Markdown object>"
            ],
            "text/markdown": " Services encompasses products and platforms such as Search, Google Maps, Ads, Gmail, Google Play, Android, Chrome, and YouTube. The company invests heavily in infrastructure, data, machine learning, analytics, and artificial intelligence (AI). Alphabet has a"
          },
          "metadata": {}
        },
        {
          "output_type": "display_data",
          "data": {
            "text/plain": [
              "<IPython.core.display.Markdown object>"
            ],
            "text/markdown": " business presence across the Americas, Europe, and Asia-Pacific, and is headquartered in Mountain View, California.\n\n**Recent News and Developments:**\n\n*   **Q4 2024 Financial Results:** On February 4,"
          },
          "metadata": {}
        },
        {
          "output_type": "display_data",
          "data": {
            "text/plain": [
              "<IPython.core.display.Markdown object>"
            ],
            "text/markdown": " 2025, Alphabet announced its Q4 and fiscal year 2024 results. Consolidated Alphabet revenues in Q4 2024 increased 12% year-over-year to $96.5 billion. Google Cloud revenues increased 30% to $12.0 billion."
          },
          "metadata": {}
        },
        {
          "output_type": "display_data",
          "data": {
            "text/plain": [
              "<IPython.core.display.Markdown object>"
            ],
            "text/markdown": "\n*   **Investment in AI:** Alphabet plans to invest approximately $75 billion in capital expenditures in 2025, primarily aimed at advancing AI infrastructure. This investment has raised concerns among some investors about the company's future growth prospects and profitability.\n\n**Financial Performance:**\n\n*   **Revenue Growth"
          },
          "metadata": {}
        },
        {
          "output_type": "display_data",
          "data": {
            "text/plain": [
              "<IPython.core.display.Markdown object>"
            ],
            "text/markdown": ":** Alphabet's revenue has shown consistent growth over the past few years. Alphabet's revenue for the twelve months ending September 30, 2024, was $339.859 billion, a 14.38% increase year-over-year. The annual revenue for 2"
          },
          "metadata": {}
        },
        {
          "output_type": "display_data",
          "data": {
            "text/plain": [
              "<IPython.core.display.Markdown object>"
            ],
            "text/markdown": "023 was $307.394B, an 8.68% increase from 2022.\n*   **Q4 2024 Highlights:** Consolidated revenues increased 12% year over year to $96.5 billion. Google Services revenues increased"
          },
          "metadata": {}
        },
        {
          "output_type": "display_data",
          "data": {
            "text/plain": [
              "<IPython.core.display.Markdown object>"
            ],
            "text/markdown": " 10% to $84.1 billion. Google Cloud revenues increased 30% to $12.0 billion. Total operating income increased 31%, and operating margin expanded to 32%. Net income increased 28%, and EPS increased 31% to $2.15."
          },
          "metadata": {}
        },
        {
          "output_type": "display_data",
          "data": {
            "text/plain": [
              "<IPython.core.display.Markdown object>"
            ],
            "text/markdown": "\n\n**Stock Performance:**\n\n*   As of February 6, 2025, Alphabet Inc (GOOG:NSQ) traded at 192.53, -7.75% below its 52-week high of 208.70, set on Feb"
          },
          "metadata": {}
        },
        {
          "output_type": "display_data",
          "data": {
            "text/plain": [
              "<IPython.core.display.Markdown object>"
            ],
            "text/markdown": " 04, 2025.\n*   Shares of Alphabet dropped nearly 8% on February 5, 2025, amid worries about whether the tech giant's spending on AI will pay off.\n*   Despite recent losses, Alphabet's stock has gained more than 3"
          },
          "metadata": {}
        },
        {
          "output_type": "display_data",
          "data": {
            "text/plain": [
              "<IPython.core.display.Markdown object>"
            ],
            "text/markdown": "0% over the past 12 months.\n*   Analysts' opinions on Alphabet Inc (Google) Class C future price: max estimate of 240.00 USD and a min estimate of 184.00 USD.\n\n**Competitive Landscape:**\n\n*   Alphabet operates in a highly competitive"
          },
          "metadata": {}
        },
        {
          "output_type": "display_data",
          "data": {
            "text/plain": [
              "<IPython.core.display.Markdown object>"
            ],
            "text/markdown": " landscape, facing challenges from companies like Microsoft, Amazon, Apple, Meta, and numerous others across various sectors.\n*   In search, Microsoft's Bing directly competes with Google Search. In cloud services, Microsoft's Azure competes with Google Cloud Platform.\n*   Alphabet faces intensifying competition in AI technology from both"
          },
          "metadata": {}
        },
        {
          "output_type": "display_data",
          "data": {
            "text/plain": [
              "<IPython.core.display.Markdown object>"
            ],
            "text/markdown": " established players and emerging startups like OpenAI.\n\n**Future Outlook:**\n\n*   Analysts forecast Alphabet to grow earnings and revenue by 10.8% and 9.7% per annum respectively. EPS is expected to grow by 11.9% per annum.\n*   Alphabet's heavy investments in AI and"
          },
          "metadata": {}
        },
        {
          "output_type": "display_data",
          "data": {
            "text/plain": [
              "<IPython.core.display.Markdown object>"
            ],
            "text/markdown": " other new technologies could result in a temporary slowdown in earnings growth.\n*   The company's future profitability outlook is under scrutiny as market analysts have observed that Alphabet's heavy investments in new technologies and business ventures could result in a temporary slowdown in earnings growth.\n\n---"
          },
          "metadata": {}
        },
        {
          "output_type": "display_data",
          "data": {
            "text/plain": [
              "<IPython.core.display.HTML object>"
            ],
            "text/html": [
              "<style>\n",
              ".container {\n",
              "  align-items: center;\n",
              "  border-radius: 8px;\n",
              "  display: flex;\n",
              "  font-family: Google Sans, Roboto, sans-serif;\n",
              "  font-size: 14px;\n",
              "  line-height: 20px;\n",
              "  padding: 8px 12px;\n",
              "}\n",
              ".chip {\n",
              "  display: inline-block;\n",
              "  border: solid 1px;\n",
              "  border-radius: 16px;\n",
              "  min-width: 14px;\n",
              "  padding: 5px 16px;\n",
              "  text-align: center;\n",
              "  user-select: none;\n",
              "  margin: 0 8px;\n",
              "  -webkit-tap-highlight-color: transparent;\n",
              "}\n",
              ".carousel {\n",
              "  overflow: auto;\n",
              "  scrollbar-width: none;\n",
              "  white-space: nowrap;\n",
              "  margin-right: -12px;\n",
              "}\n",
              ".headline {\n",
              "  display: flex;\n",
              "  margin-right: 4px;\n",
              "}\n",
              ".gradient-container {\n",
              "  position: relative;\n",
              "}\n",
              ".gradient {\n",
              "  position: absolute;\n",
              "  transform: translate(3px, -9px);\n",
              "  height: 36px;\n",
              "  width: 9px;\n",
              "}\n",
              "@media (prefers-color-scheme: light) {\n",
              "  .container {\n",
              "    background-color: #fafafa;\n",
              "    box-shadow: 0 0 0 1px #0000000f;\n",
              "  }\n",
              "  .headline-label {\n",
              "    color: #1f1f1f;\n",
              "  }\n",
              "  .chip {\n",
              "    background-color: #ffffff;\n",
              "    border-color: #d2d2d2;\n",
              "    color: #5e5e5e;\n",
              "    text-decoration: none;\n",
              "  }\n",
              "  .chip:hover {\n",
              "    background-color: #f2f2f2;\n",
              "  }\n",
              "  .chip:focus {\n",
              "    background-color: #f2f2f2;\n",
              "  }\n",
              "  .chip:active {\n",
              "    background-color: #d8d8d8;\n",
              "    border-color: #b6b6b6;\n",
              "  }\n",
              "  .logo-dark {\n",
              "    display: none;\n",
              "  }\n",
              "  .gradient {\n",
              "    background: linear-gradient(90deg, #fafafa 15%, #fafafa00 100%);\n",
              "  }\n",
              "}\n",
              "@media (prefers-color-scheme: dark) {\n",
              "  .container {\n",
              "    background-color: #1f1f1f;\n",
              "    box-shadow: 0 0 0 1px #ffffff26;\n",
              "  }\n",
              "  .headline-label {\n",
              "    color: #fff;\n",
              "  }\n",
              "  .chip {\n",
              "    background-color: #2c2c2c;\n",
              "    border-color: #3c4043;\n",
              "    color: #fff;\n",
              "    text-decoration: none;\n",
              "  }\n",
              "  .chip:hover {\n",
              "    background-color: #353536;\n",
              "  }\n",
              "  .chip:focus {\n",
              "    background-color: #353536;\n",
              "  }\n",
              "  .chip:active {\n",
              "    background-color: #464849;\n",
              "    border-color: #53575b;\n",
              "  }\n",
              "  .logo-light {\n",
              "    display: none;\n",
              "  }\n",
              "  .gradient {\n",
              "    background: linear-gradient(90deg, #1f1f1f 15%, #1f1f1f00 100%);\n",
              "  }\n",
              "}\n",
              "</style>\n",
              "<div class=\"container\">\n",
              "  <div class=\"headline\">\n",
              "    <svg class=\"logo-light\" width=\"18\" height=\"18\" viewBox=\"9 9 35 35\" fill=\"none\" xmlns=\"http://www.w3.org/2000/svg\">\n",
              "      <path fill-rule=\"evenodd\" clip-rule=\"evenodd\" d=\"M42.8622 27.0064C42.8622 25.7839 42.7525 24.6084 42.5487 23.4799H26.3109V30.1568H35.5897C35.1821 32.3041 33.9596 34.1222 32.1258 35.3448V39.6864H37.7213C40.9814 36.677 42.8622 32.2571 42.8622 27.0064V27.0064Z\" fill=\"#4285F4\"/>\n",
              "      <path fill-rule=\"evenodd\" clip-rule=\"evenodd\" d=\"M26.3109 43.8555C30.9659 43.8555 34.8687 42.3195 37.7213 39.6863L32.1258 35.3447C30.5898 36.3792 28.6306 37.0061 26.3109 37.0061C21.8282 37.0061 18.0195 33.9811 16.6559 29.906H10.9194V34.3573C13.7563 39.9841 19.5712 43.8555 26.3109 43.8555V43.8555Z\" fill=\"#34A853\"/>\n",
              "      <path fill-rule=\"evenodd\" clip-rule=\"evenodd\" d=\"M16.6559 29.8904C16.3111 28.8559 16.1074 27.7588 16.1074 26.6146C16.1074 25.4704 16.3111 24.3733 16.6559 23.3388V18.8875H10.9194C9.74388 21.2072 9.06992 23.8247 9.06992 26.6146C9.06992 29.4045 9.74388 32.022 10.9194 34.3417L15.3864 30.8621L16.6559 29.8904V29.8904Z\" fill=\"#FBBC05\"/>\n",
              "      <path fill-rule=\"evenodd\" clip-rule=\"evenodd\" d=\"M26.3109 16.2386C28.85 16.2386 31.107 17.1164 32.9095 18.8091L37.8466 13.8719C34.853 11.082 30.9659 9.3736 26.3109 9.3736C19.5712 9.3736 13.7563 13.245 10.9194 18.8875L16.6559 23.3388C18.0195 19.2636 21.8282 16.2386 26.3109 16.2386V16.2386Z\" fill=\"#EA4335\"/>\n",
              "    </svg>\n",
              "    <svg class=\"logo-dark\" width=\"18\" height=\"18\" viewBox=\"0 0 48 48\" xmlns=\"http://www.w3.org/2000/svg\">\n",
              "      <circle cx=\"24\" cy=\"23\" fill=\"#FFF\" r=\"22\"/>\n",
              "      <path d=\"M33.76 34.26c2.75-2.56 4.49-6.37 4.49-11.26 0-.89-.08-1.84-.29-3H24.01v5.99h8.03c-.4 2.02-1.5 3.56-3.07 4.56v.75l3.91 2.97h.88z\" fill=\"#4285F4\"/>\n",
              "      <path d=\"M15.58 25.77A8.845 8.845 0 0 0 24 31.86c1.92 0 3.62-.46 4.97-1.31l4.79 3.71C31.14 36.7 27.65 38 24 38c-5.93 0-11.01-3.4-13.45-8.36l.17-1.01 4.06-2.85h.8z\" fill=\"#34A853\"/>\n",
              "      <path d=\"M15.59 20.21a8.864 8.864 0 0 0 0 5.58l-5.03 3.86c-.98-2-1.53-4.25-1.53-6.64 0-2.39.55-4.64 1.53-6.64l1-.22 3.81 2.98.22 1.08z\" fill=\"#FBBC05\"/>\n",
              "      <path d=\"M24 14.14c2.11 0 4.02.75 5.52 1.98l4.36-4.36C31.22 9.43 27.81 8 24 8c-5.93 0-11.01 3.4-13.45 8.36l5.03 3.85A8.86 8.86 0 0 1 24 14.14z\" fill=\"#EA4335\"/>\n",
              "    </svg>\n",
              "    <div class=\"gradient-container\"><div class=\"gradient\"></div></div>\n",
              "  </div>\n",
              "  <div class=\"carousel\">\n",
              "    <a class=\"chip\" href=\"https://vertexaisearch.cloud.google.com/grounding-api-redirect/AUBnsYuBrmnZpnjfNT24rUSTDFzNvFERi4JxrN9isrYvbKkwAL32aDuzQN_N6rGUyN8nGTtv5633yI3cgD6wf2vPig9A99CSVFS5bMsSgPYkMvO5GkRFCSLpigySIRzEEKqpjVA6ScWb875kwPUV6cFHk8xUQtwyO99U0PQWoVfIW64safX445T-L1PYw4GqQDPmhWIE-IQPl5wqqab9gXXBMf8WkNSRjGHi\">Alphabet Inc. competitive landscape</a>\n",
              "    <a class=\"chip\" href=\"https://vertexaisearch.cloud.google.com/grounding-api-redirect/AUBnsYtJ63LyvnDlzo01CIda2l4V2FvR8ta5liob-2kavQI6YOx_qeMP9unA2ikAbIw_oLvidmO9JbT9MgmoBBWTP-Asbu3gwWH_IZHHukHo2ibREhcA8zEhbIfbArcb4lY-SjsEJ9ZvJFGapZ54cvjkTBC5eQm3gYuLPWXtoeOAZePqXPtHYOWy55VpZ3tZjnLcWbFJz8tRKVZJvYbBLCcE9aW4WHk2kOWL\">Alphabet Inc. financial performance</a>\n",
              "    <a class=\"chip\" href=\"https://vertexaisearch.cloud.google.com/grounding-api-redirect/AUBnsYsi2ckx3d4A8rBg5Lx-DCFKxMk7lAu16eRzAx2zITLtYVOe_aoHi2-WcSz-NDIGmIhnAMc4ORFPyZ_cWg3bH5UvbvyaPbZ4mLVLl4qrZ9zURMgvj6iI6wfygdovfuZ_NUfrMmT6m_cG4ED7dOEuD_0OD1uw_2orXClVC337ZsDESOeWOd3AmLBXyuOZBQvrmBLnJr4PR_W06NqtgjezYReljQ==\">Alphabet Inc. company overview</a>\n",
              "    <a class=\"chip\" href=\"https://vertexaisearch.cloud.google.com/grounding-api-redirect/AUBnsYsO28Td4ae2-rvKIN8v1Z9rJDUV-EIwmWbZiWkxfxhH9AWMuiaARtFQShCn-k5tKl4jCRivrnCePWFyE2eRLJ3Kxz91UO2mKyWsplNpf0Y_Lss1Sryei0GSYF4sLNvDbtNHNGf-MSl1u1e_0VJcQ0hj3rqvmc0lCd3c-IHgnXGUXG1ejjBzvC0Mszq3VqzoAyFyfi-D3CAgdD_Epgo=\">Alphabet Inc. recent news</a>\n",
              "    <a class=\"chip\" href=\"https://vertexaisearch.cloud.google.com/grounding-api-redirect/AUBnsYvdT5PHMalER2DnawQJz4WulyAVbsSCLuVKJDKRXScDNgdzatQBPYU9vlmth0e3Szj13FbfZuehxGuP2utJEpzkWt7_kdY8AoEXOj1YSgnQOWTwIpvlp_dgyXUb0r2eJJooHYOIUfYCOhFufoTecyRgnV6AmZEDM9CIvA6PgeOTqigzu7s-toFwnHtvvPrWALT68a5OHx6OuX0Fak934EE=\">Alphabet Inc. future outlook</a>\n",
              "    <a class=\"chip\" href=\"https://vertexaisearch.cloud.google.com/grounding-api-redirect/AUBnsYtXxFPpHR6Of3edjQvIkm08dgNGRz-Xl_EZzLOZoRR5B6llMOx-J8juB_wi_xQ_5P6OnS9g09Jgv1Of9HbNWPYhIFv73QTSs2UGnkXIYd2c_vHqwlA-w0JYpignHERYjFwd8a4JEjrx8yL8WU-kkWgfTyAis61uPeOvsVfGx6JyFUYh4n-pBN7cw15CzfOzjlQ3Eokk_GzI0LE0Lko8Hy5E9_4=\">Alphabet Inc. stock performance</a>\n",
              "  </div>\n",
              "</div>\n"
            ]
          },
          "metadata": {}
        }
      ],
      "source": [
        "sys_instruction = \"\"\"You are an analyst that conducts company research.\n",
        "You are given a company name, and you will work on a company report. You have access\n",
        "to Google Search to look up company news, updates and metrics to write research reports.\n",
        "\n",
        "When given a company name, identify key aspects to research, look up that information\n",
        "and then write a concise company report.\n",
        "\n",
        "Feel free to plan your work and talk about it, but when you start writing the report,\n",
        "put a line of dashes (---) to demarcate the report itself, and say nothing else after\n",
        "the report has finished.\n",
        "\"\"\"\n",
        "\n",
        "config = GenerateContentConfig(system_instruction=sys_instruction, tools=[Tool(google_search={})], temperature=0)\n",
        "response_stream = client.models.generate_content_stream(\n",
        "    model=MODEL_ID, config=config, contents=[COMPANY])\n",
        "\n",
        "report = io.StringIO()\n",
        "for chunk in response_stream:\n",
        "  candidate = chunk.candidates[0]\n",
        "\n",
        "  for part in candidate.content.parts:\n",
        "    if part.text:\n",
        "      display(Markdown(part.text))\n",
        "\n",
        "      # Find and save the report itself.\n",
        "      if m := re.search('(^|\\n)-+\\n(.*)$', part.text, re.M):\n",
        "          # Find the starting '---' line and start saving.\n",
        "          report.write(m.group(2))\n",
        "      elif report.tell():\n",
        "        # If there's already something in the buffer, keep recording.\n",
        "        report.write(part.text)\n",
        "\n",
        "    else:\n",
        "      print(json.dumps(part.model_dump(exclude_none=True), indent=2))\n",
        "\n",
        "  # You must enable Google Search Suggestions\n",
        "  if gm := candidate.grounding_metadata:\n",
        "    if sep := gm.search_entry_point:\n",
        "      display(HTML(sep.rendered_content))"
      ]
    },
    {
      "cell_type": "markdown",
      "metadata": {
        "id": "e2gBbhEU-jCo"
      },
      "source": [
        "Very impressive! Gemini 2.0 starts by planning for the task, performing relevant searches and streams out a report for you."
      ]
    },
    {
      "cell_type": "markdown",
      "metadata": {
        "id": "P_JoMFa18Rss"
      },
      "source": [
        "### Final output\n",
        "\n",
        "Render the final output."
      ]
    },
    {
      "cell_type": "code",
      "execution_count": 17,
      "metadata": {
        "id": "1yddCUCL4yKA",
        "outputId": "c0e451a8-7f33-4fd3-8195-24be64255c89",
        "colab": {
          "base_uri": "https://localhost:8080/",
          "height": 65
        }
      },
      "outputs": [
        {
          "output_type": "display_data",
          "data": {
            "text/plain": [
              "<IPython.core.display.Markdown object>"
            ],
            "text/markdown": ""
          },
          "metadata": {}
        },
        {
          "output_type": "display_data",
          "data": {
            "text/plain": [
              "<IPython.core.display.HTML object>"
            ],
            "text/html": [
              "<style>\n",
              ".container {\n",
              "  align-items: center;\n",
              "  border-radius: 8px;\n",
              "  display: flex;\n",
              "  font-family: Google Sans, Roboto, sans-serif;\n",
              "  font-size: 14px;\n",
              "  line-height: 20px;\n",
              "  padding: 8px 12px;\n",
              "}\n",
              ".chip {\n",
              "  display: inline-block;\n",
              "  border: solid 1px;\n",
              "  border-radius: 16px;\n",
              "  min-width: 14px;\n",
              "  padding: 5px 16px;\n",
              "  text-align: center;\n",
              "  user-select: none;\n",
              "  margin: 0 8px;\n",
              "  -webkit-tap-highlight-color: transparent;\n",
              "}\n",
              ".carousel {\n",
              "  overflow: auto;\n",
              "  scrollbar-width: none;\n",
              "  white-space: nowrap;\n",
              "  margin-right: -12px;\n",
              "}\n",
              ".headline {\n",
              "  display: flex;\n",
              "  margin-right: 4px;\n",
              "}\n",
              ".gradient-container {\n",
              "  position: relative;\n",
              "}\n",
              ".gradient {\n",
              "  position: absolute;\n",
              "  transform: translate(3px, -9px);\n",
              "  height: 36px;\n",
              "  width: 9px;\n",
              "}\n",
              "@media (prefers-color-scheme: light) {\n",
              "  .container {\n",
              "    background-color: #fafafa;\n",
              "    box-shadow: 0 0 0 1px #0000000f;\n",
              "  }\n",
              "  .headline-label {\n",
              "    color: #1f1f1f;\n",
              "  }\n",
              "  .chip {\n",
              "    background-color: #ffffff;\n",
              "    border-color: #d2d2d2;\n",
              "    color: #5e5e5e;\n",
              "    text-decoration: none;\n",
              "  }\n",
              "  .chip:hover {\n",
              "    background-color: #f2f2f2;\n",
              "  }\n",
              "  .chip:focus {\n",
              "    background-color: #f2f2f2;\n",
              "  }\n",
              "  .chip:active {\n",
              "    background-color: #d8d8d8;\n",
              "    border-color: #b6b6b6;\n",
              "  }\n",
              "  .logo-dark {\n",
              "    display: none;\n",
              "  }\n",
              "  .gradient {\n",
              "    background: linear-gradient(90deg, #fafafa 15%, #fafafa00 100%);\n",
              "  }\n",
              "}\n",
              "@media (prefers-color-scheme: dark) {\n",
              "  .container {\n",
              "    background-color: #1f1f1f;\n",
              "    box-shadow: 0 0 0 1px #ffffff26;\n",
              "  }\n",
              "  .headline-label {\n",
              "    color: #fff;\n",
              "  }\n",
              "  .chip {\n",
              "    background-color: #2c2c2c;\n",
              "    border-color: #3c4043;\n",
              "    color: #fff;\n",
              "    text-decoration: none;\n",
              "  }\n",
              "  .chip:hover {\n",
              "    background-color: #353536;\n",
              "  }\n",
              "  .chip:focus {\n",
              "    background-color: #353536;\n",
              "  }\n",
              "  .chip:active {\n",
              "    background-color: #464849;\n",
              "    border-color: #53575b;\n",
              "  }\n",
              "  .logo-light {\n",
              "    display: none;\n",
              "  }\n",
              "  .gradient {\n",
              "    background: linear-gradient(90deg, #1f1f1f 15%, #1f1f1f00 100%);\n",
              "  }\n",
              "}\n",
              "</style>\n",
              "<div class=\"container\">\n",
              "  <div class=\"headline\">\n",
              "    <svg class=\"logo-light\" width=\"18\" height=\"18\" viewBox=\"9 9 35 35\" fill=\"none\" xmlns=\"http://www.w3.org/2000/svg\">\n",
              "      <path fill-rule=\"evenodd\" clip-rule=\"evenodd\" d=\"M42.8622 27.0064C42.8622 25.7839 42.7525 24.6084 42.5487 23.4799H26.3109V30.1568H35.5897C35.1821 32.3041 33.9596 34.1222 32.1258 35.3448V39.6864H37.7213C40.9814 36.677 42.8622 32.2571 42.8622 27.0064V27.0064Z\" fill=\"#4285F4\"/>\n",
              "      <path fill-rule=\"evenodd\" clip-rule=\"evenodd\" d=\"M26.3109 43.8555C30.9659 43.8555 34.8687 42.3195 37.7213 39.6863L32.1258 35.3447C30.5898 36.3792 28.6306 37.0061 26.3109 37.0061C21.8282 37.0061 18.0195 33.9811 16.6559 29.906H10.9194V34.3573C13.7563 39.9841 19.5712 43.8555 26.3109 43.8555V43.8555Z\" fill=\"#34A853\"/>\n",
              "      <path fill-rule=\"evenodd\" clip-rule=\"evenodd\" d=\"M16.6559 29.8904C16.3111 28.8559 16.1074 27.7588 16.1074 26.6146C16.1074 25.4704 16.3111 24.3733 16.6559 23.3388V18.8875H10.9194C9.74388 21.2072 9.06992 23.8247 9.06992 26.6146C9.06992 29.4045 9.74388 32.022 10.9194 34.3417L15.3864 30.8621L16.6559 29.8904V29.8904Z\" fill=\"#FBBC05\"/>\n",
              "      <path fill-rule=\"evenodd\" clip-rule=\"evenodd\" d=\"M26.3109 16.2386C28.85 16.2386 31.107 17.1164 32.9095 18.8091L37.8466 13.8719C34.853 11.082 30.9659 9.3736 26.3109 9.3736C19.5712 9.3736 13.7563 13.245 10.9194 18.8875L16.6559 23.3388C18.0195 19.2636 21.8282 16.2386 26.3109 16.2386V16.2386Z\" fill=\"#EA4335\"/>\n",
              "    </svg>\n",
              "    <svg class=\"logo-dark\" width=\"18\" height=\"18\" viewBox=\"0 0 48 48\" xmlns=\"http://www.w3.org/2000/svg\">\n",
              "      <circle cx=\"24\" cy=\"23\" fill=\"#FFF\" r=\"22\"/>\n",
              "      <path d=\"M33.76 34.26c2.75-2.56 4.49-6.37 4.49-11.26 0-.89-.08-1.84-.29-3H24.01v5.99h8.03c-.4 2.02-1.5 3.56-3.07 4.56v.75l3.91 2.97h.88z\" fill=\"#4285F4\"/>\n",
              "      <path d=\"M15.58 25.77A8.845 8.845 0 0 0 24 31.86c1.92 0 3.62-.46 4.97-1.31l4.79 3.71C31.14 36.7 27.65 38 24 38c-5.93 0-11.01-3.4-13.45-8.36l.17-1.01 4.06-2.85h.8z\" fill=\"#34A853\"/>\n",
              "      <path d=\"M15.59 20.21a8.864 8.864 0 0 0 0 5.58l-5.03 3.86c-.98-2-1.53-4.25-1.53-6.64 0-2.39.55-4.64 1.53-6.64l1-.22 3.81 2.98.22 1.08z\" fill=\"#FBBC05\"/>\n",
              "      <path d=\"M24 14.14c2.11 0 4.02.75 5.52 1.98l4.36-4.36C31.22 9.43 27.81 8 24 8c-5.93 0-11.01 3.4-13.45 8.36l5.03 3.85A8.86 8.86 0 0 1 24 14.14z\" fill=\"#EA4335\"/>\n",
              "    </svg>\n",
              "    <div class=\"gradient-container\"><div class=\"gradient\"></div></div>\n",
              "  </div>\n",
              "  <div class=\"carousel\">\n",
              "    <a class=\"chip\" href=\"https://vertexaisearch.cloud.google.com/grounding-api-redirect/AUBnsYuBrmnZpnjfNT24rUSTDFzNvFERi4JxrN9isrYvbKkwAL32aDuzQN_N6rGUyN8nGTtv5633yI3cgD6wf2vPig9A99CSVFS5bMsSgPYkMvO5GkRFCSLpigySIRzEEKqpjVA6ScWb875kwPUV6cFHk8xUQtwyO99U0PQWoVfIW64safX445T-L1PYw4GqQDPmhWIE-IQPl5wqqab9gXXBMf8WkNSRjGHi\">Alphabet Inc. competitive landscape</a>\n",
              "    <a class=\"chip\" href=\"https://vertexaisearch.cloud.google.com/grounding-api-redirect/AUBnsYtJ63LyvnDlzo01CIda2l4V2FvR8ta5liob-2kavQI6YOx_qeMP9unA2ikAbIw_oLvidmO9JbT9MgmoBBWTP-Asbu3gwWH_IZHHukHo2ibREhcA8zEhbIfbArcb4lY-SjsEJ9ZvJFGapZ54cvjkTBC5eQm3gYuLPWXtoeOAZePqXPtHYOWy55VpZ3tZjnLcWbFJz8tRKVZJvYbBLCcE9aW4WHk2kOWL\">Alphabet Inc. financial performance</a>\n",
              "    <a class=\"chip\" href=\"https://vertexaisearch.cloud.google.com/grounding-api-redirect/AUBnsYsi2ckx3d4A8rBg5Lx-DCFKxMk7lAu16eRzAx2zITLtYVOe_aoHi2-WcSz-NDIGmIhnAMc4ORFPyZ_cWg3bH5UvbvyaPbZ4mLVLl4qrZ9zURMgvj6iI6wfygdovfuZ_NUfrMmT6m_cG4ED7dOEuD_0OD1uw_2orXClVC337ZsDESOeWOd3AmLBXyuOZBQvrmBLnJr4PR_W06NqtgjezYReljQ==\">Alphabet Inc. company overview</a>\n",
              "    <a class=\"chip\" href=\"https://vertexaisearch.cloud.google.com/grounding-api-redirect/AUBnsYsO28Td4ae2-rvKIN8v1Z9rJDUV-EIwmWbZiWkxfxhH9AWMuiaARtFQShCn-k5tKl4jCRivrnCePWFyE2eRLJ3Kxz91UO2mKyWsplNpf0Y_Lss1Sryei0GSYF4sLNvDbtNHNGf-MSl1u1e_0VJcQ0hj3rqvmc0lCd3c-IHgnXGUXG1ejjBzvC0Mszq3VqzoAyFyfi-D3CAgdD_Epgo=\">Alphabet Inc. recent news</a>\n",
              "    <a class=\"chip\" href=\"https://vertexaisearch.cloud.google.com/grounding-api-redirect/AUBnsYvdT5PHMalER2DnawQJz4WulyAVbsSCLuVKJDKRXScDNgdzatQBPYU9vlmth0e3Szj13FbfZuehxGuP2utJEpzkWt7_kdY8AoEXOj1YSgnQOWTwIpvlp_dgyXUb0r2eJJooHYOIUfYCOhFufoTecyRgnV6AmZEDM9CIvA6PgeOTqigzu7s-toFwnHtvvPrWALT68a5OHx6OuX0Fak934EE=\">Alphabet Inc. future outlook</a>\n",
              "    <a class=\"chip\" href=\"https://vertexaisearch.cloud.google.com/grounding-api-redirect/AUBnsYtXxFPpHR6Of3edjQvIkm08dgNGRz-Xl_EZzLOZoRR5B6llMOx-J8juB_wi_xQ_5P6OnS9g09Jgv1Of9HbNWPYhIFv73QTSs2UGnkXIYd2c_vHqwlA-w0JYpignHERYjFwd8a4JEjrx8yL8WU-kkWgfTyAis61uPeOvsVfGx6JyFUYh4n-pBN7cw15CzfOzjlQ3Eokk_GzI0LE0Lko8Hy5E9_4=\">Alphabet Inc. stock performance</a>\n",
              "  </div>\n",
              "</div>\n"
            ]
          },
          "metadata": {}
        }
      ],
      "source": [
        "display(Markdown(report.getvalue().replace('$', r'\\$')))  # Escape $ signs for better MD rendering\n",
        "display(HTML(sep.rendered_content))"
      ]
    },
    {
      "cell_type": "markdown",
      "metadata": {
        "id": "leOZmicAwTSn"
      },
      "source": [
        "As you can see, the Gemini 2.0 model is able to write a concise, accurate and well-structured research report for us. All the information in the report is factual and up-to-date.\n",
        "\n",
        "Note that this tutorial is meant to showcase the capability of the new search tool and inspire interesting use cases, not to build a production research report generator. If you are looking to use a tool, please check out Google [Deep Research](https://blog.google/products/gemini/google-gemini-deep-research/) in the Gemini app."
      ]
    },
    {
      "cell_type": "markdown",
      "source": [
        "## tech report"
      ],
      "metadata": {
        "id": "pOk4oiFje77v"
      }
    },
    {
      "cell_type": "code",
      "source": [
        "TOPIC = 'Mobile App Startup measurement' # @param {type:\"string\"}"
      ],
      "metadata": {
        "id": "7ovICXtAe_Pi"
      },
      "execution_count": 19,
      "outputs": []
    },
    {
      "cell_type": "code",
      "source": [
        "sys_instruction = \"\"\"You are an analyst researching technology for mobile development solutions. Your task is to provide a concise report that references Apple’s iOS guidelines and Google’s Android guidelines first, along with any other authoritative sources you find relevant.\n",
        "\n",
        "Feel free to plan and discuss your approach out loud, but when you begin writing your final report, please insert a line of dashes (—) to mark its start.\n",
        "\n",
        "In your report, do the following:\n",
        "\t1.\tPresent the most critical best practices or guidelines from both Apple and Google for modern mobile development.\n",
        "\t2.\tPropose at least three step-by-step solutions or methods with pros and cons  to implement these guidelines effectively, highlighting potential frameworks or libraries (e.g., Flutter, React Native, SwiftUI, Jetpack Compose).\n",
        "\t3.\tOffer additional references or sources for further reading.\n",
        "\"\"\"\n",
        "\n",
        "config = GenerateContentConfig(system_instruction=sys_instruction, tools=[Tool(google_search={})], temperature=0)\n",
        "response_stream = client.models.generate_content_stream(\n",
        "    model=MODEL_ID, config=config, contents=[TOPIC])\n",
        "\n",
        "report = io.StringIO()\n",
        "for chunk in response_stream:\n",
        "  candidate = chunk.candidates[0]\n",
        "\n",
        "  for part in candidate.content.parts:\n",
        "    if part.text:\n",
        "      display(Markdown(part.text))\n",
        "\n",
        "      # Find and save the report itself.\n",
        "      if m := re.search('(^|\\n)-+\\n(.*)$', part.text, re.M):\n",
        "          # Find the starting '---' line and start saving.\n",
        "          report.write(m.group(2))\n",
        "      elif report.tell():\n",
        "        # If there's already something in the buffer, keep recording.\n",
        "        report.write(part.text)\n",
        "\n",
        "    else:\n",
        "      print(json.dumps(part.model_dump(exclude_none=True), indent=2))\n",
        "\n",
        "  # You must enable Google Search Suggestions\n",
        "  if gm := candidate.grounding_metadata:\n",
        "    if sep := gm.search_entry_point:\n",
        "      display(HTML(sep.rendered_content))"
      ],
      "metadata": {
        "collapsed": true,
        "id": "1062rsgAfSUT",
        "outputId": "02afee0e-efb5-4e97-b6af-0fa4eee9bb5a",
        "colab": {
          "base_uri": "https://localhost:8080/",
          "height": 1000
        }
      },
      "execution_count": 20,
      "outputs": [
        {
          "output_type": "display_data",
          "data": {
            "text/plain": [
              "<IPython.core.display.Markdown object>"
            ],
            "text/markdown": "Okay"
          },
          "metadata": {}
        },
        {
          "output_type": "display_data",
          "data": {
            "text/plain": [
              "<IPython.core.display.Markdown object>"
            ],
            "text/markdown": ", I need"
          },
          "metadata": {}
        },
        {
          "output_type": "display_data",
          "data": {
            "text/plain": [
              "<IPython.core.display.Markdown object>"
            ],
            "text/markdown": " to research mobile app startup measurement, focusing on guidelines from Apple (iOS) and Google"
          },
          "metadata": {}
        },
        {
          "output_type": "display_data",
          "data": {
            "text/plain": [
              "<IPython.core.display.Markdown object>"
            ],
            "text/markdown": " (Android). I'll look for best practices and then propose solutions for implementing"
          },
          "metadata": {}
        },
        {
          "output_type": "display_data",
          "data": {
            "text/plain": [
              "<IPython.core.display.Markdown object>"
            ],
            "text/markdown": " them, considering frameworks like Flutter, React Native, SwiftUI, and Jetpack Compose.\n\nHere's my plan:\n\n1.  **Search for Apple'"
          },
          "metadata": {}
        },
        {
          "output_type": "display_data",
          "data": {
            "text/plain": [
              "<IPython.core.display.Markdown object>"
            ],
            "text/markdown": "s iOS startup time guidelines:** I'll use search queries like \"iOS app startup time optimization\", \"Apple iOS performance best practices\", and \"iOS app launch"
          },
          "metadata": {}
        },
        {
          "output_type": "display_data",
          "data": {
            "text/plain": [
              "<IPython.core.display.Markdown object>"
            ],
            "text/markdown": " time measurement\".\n2.  **Search for Google's Android startup time guidelines:** I'll use search queries like \"Android app startup time optimization\", \"Google Android performance best practices\", and \"Android app launch time measurement\".\n"
          },
          "metadata": {}
        },
        {
          "output_type": "display_data",
          "data": {
            "text/plain": [
              "<IPython.core.display.Markdown object>"
            ],
            "text/markdown": "3.  **Identify key best practices from both platforms:** I'll look for common themes and platform-specific recommendations.\n4.  **Propose solutions for implementation:** I'll outline step-by-step methods, considering"
          },
          "metadata": {}
        },
        {
          "output_type": "display_data",
          "data": {
            "text/plain": [
              "<IPython.core.display.Markdown object>"
            ],
            "text/markdown": " different frameworks and libraries. I'll also weigh the pros and cons of each approach.\n5.  **Find additional resources:** I'll look for relevant documentation, articles, and tools.\n\nNow, let's start with the searches.\n\n"
          },
          "metadata": {}
        },
        {
          "output_type": "display_data",
          "data": {
            "text/plain": [
              "<IPython.core.display.Markdown object>"
            ],
            "text/markdown": "Okay"
          },
          "metadata": {}
        },
        {
          "output_type": "display_data",
          "data": {
            "text/plain": [
              "<IPython.core.display.Markdown object>"
            ],
            "text/markdown": ", I've gathered information from the search results. Now I'll summarize"
          },
          "metadata": {}
        },
        {
          "output_type": "display_data",
          "data": {
            "text/plain": [
              "<IPython.core.display.Markdown object>"
            ],
            "text/markdown": " the key best practices for iOS and Android app startup measurement and optimization.\n\n**"
          },
          "metadata": {}
        },
        {
          "output_type": "display_data",
          "data": {
            "text/plain": [
              "<IPython.core.display.Markdown object>"
            ],
            "text/markdown": "iOS App Startup Measurement and Optimization Best Practices:**\n\n*   **Measure Launch Time:** Use Xcode Organizer's Launches pane to measure the time from tapping the app icon to"
          },
          "metadata": {}
        },
        {
          "output_type": "display_data",
          "data": {
            "text/plain": [
              "<IPython.core.display.Markdown object>"
            ],
            "text/markdown": " the first frame being drawn. Also, use MetricKit for accurate user-driven launch and resume times. (Sources: \\[3], \\[7])\n*   "
          },
          "metadata": {}
        },
        {
          "output_type": "display_data",
          "data": {
            "text/plain": [
              "<IPython.core.display.Markdown object>"
            ],
            "text/markdown": "**Set a Target Launch Duration:** Apple recommends a target of 400ms to render the first frame (WWDC 2019). (Source: \\[4])\n*   **Minimize Work in `applicationDidFinishLaunching"
          },
          "metadata": {}
        },
        {
          "output_type": "display_data",
          "data": {
            "text/plain": [
              "<IPython.core.display.Markdown object>"
            ],
            "text/markdown": "`:** Avoid time-consuming tasks like fetching data or loading large files during this method. Defer non-critical tasks. (Source: \\[10])\n*   **Optimize the Main Thread:** Keep the main thread free from non-UI"
          },
          "metadata": {}
        },
        {
          "output_type": "display_data",
          "data": {
            "text/plain": [
              "<IPython.core.display.Markdown object>"
            ],
            "text/markdown": " work. Offload long-running tasks (JSON parsing, database queries) to background threads using GCD or OperationQueue. (Sources: \\[9], \\[10])\n*   **Reduce Dependencies:** Limit the number of 3rd party frameworks. Replace dependencies with system libraries where possible (e.g., RxSwift"
          },
          "metadata": {}
        },
        {
          "output_type": "display_data",
          "data": {
            "text/plain": [
              "<IPython.core.display.Markdown object>"
            ],
            "text/markdown": " with Combine, crypto frameworks with SwiftCrypto). (Sources: \\[3], \\[4])\n*   **Optimize Image and Asset Sizes:** Reduce the size of images and other assets to minimize loading time. (Source: \\[6])\n*   **Asynchronous Initialization:** Load essential components asynchronously to ensure a responsive user experience during startup"
          },
          "metadata": {}
        },
        {
          "output_type": "display_data",
          "data": {
            "text/plain": [
              "<IPython.core.display.Markdown object>"
            ],
            "text/markdown": ". (Source: \\[8])\n*   **Reduce Memory Usage:** Decreasing overall memory use reduces the likelihood of iOS freeing your app's memory in the background. (Source: \\[2])\n*   **Reduce Disk Writes:** Improve app responsiveness by optimizing how it writes data to permanent storage. (Source: \\["
          },
          "metadata": {}
        },
        {
          "output_type": "display_data",
          "data": {
            "text/plain": [
              "<IPython.core.display.Markdown object>"
            ],
            "text/markdown": "2])\n*   **Monitor Performance:** Use Instruments to analyze performance, resource usage, and behavior. (Source: \\[2])\n*   **Caching:** Implement caching techniques to minimize network calls. (Source: \\[6])\n\n**Android App Startup Measurement and Optimization Best Practices:**\n\n*   **Measure TT"
          },
          "metadata": {}
        },
        {
          "output_type": "display_data",
          "data": {
            "text/plain": [
              "<IPython.core.display.Markdown object>"
            ],
            "text/markdown": "ID and TTFD:** Measure Time to Initial Display (TTID) and Time to Full Display (TTFD). TTID is the time to the first frame, and TTFD is the time until the app is fully interactive. (Sources: \\[1], \\[3])\n*   **Android Vitals:** Monitor"
          },
          "metadata": {}
        },
        {
          "output_type": "display_data",
          "data": {
            "text/plain": [
              "<IPython.core.display.Markdown object>"
            ],
            "text/markdown": " startup times in the Google Play Console (Android Vitals). Excessive startup times are: Cold start >= 5 seconds, Warm start >= 2 seconds, Hot start >= 1.5 seconds. (Source: \\[3])\n*   **Baseline Profiles and Startup Profiles:** Use Baseline Profiles to improve code execution speed and"
          },
          "metadata": {}
        },
        {
          "output_type": "display_data",
          "data": {
            "text/plain": [
              "<IPython.core.display.Markdown object>"
            ],
            "text/markdown": " Startup Profiles to optimize DEX layout. (Source: \\[4])\n*   **App Startup Library:** Use the App Startup library to define component initializers that share a single content provider. (Source: \\[4])\n*   **Lazy Initialization:** Defer the creation of objects until they are needed. (Source:"
          },
          "metadata": {}
        },
        {
          "output_type": "display_data",
          "data": {
            "text/plain": [
              "<IPython.core.display.Markdown object>"
            ],
            "text/markdown": " \\[5])\n*   **Minimize Main Activity Load Time:** Make the initial layout as basic as possible. Minimize the number and size of bitmap resources loaded during startup. (Source: \\[1])\n*   **ViewStub:** Use ViewStub to lazily inflate layout resources at runtime. (Source: \\[1"
          },
          "metadata": {}
        },
        {
          "output_type": "display_data",
          "data": {
            "text/plain": [
              "<IPython.core.display.Markdown object>"
            ],
            "text/markdown": "], \\[4])\n*   **Load Content Lazily and Asynchronously:** Speed up TTID by loading content lazily and asynchronously. (Source: \\[1])\n*   **Minimize Binder Calls:** Minimize calling functions that make binder calls. Cache values instead of repeating calls or move non-blocking work to background threads."
          },
          "metadata": {}
        },
        {
          "output_type": "display_data",
          "data": {
            "text/plain": [
              "<IPython.core.display.Markdown object>"
            ],
            "text/markdown": " (Source: \\[1])\n*   **Optimize Splash Screen:** (Source: \\[4])\n*   **Reduce App Size:** (Source: \\[8])\n*   **Optimize Network Configuration:** (Source: \\[8])\n*   **Image & Video Optimization:** (Source: \\[8])\n*   "
          },
          "metadata": {}
        },
        {
          "output_type": "display_data",
          "data": {
            "text/plain": [
              "<IPython.core.display.Markdown object>"
            ],
            "text/markdown": "**Efficient Thread Usage:** (Source: \\[8])\n\nNow, let's propose some step-by-step solutions to implement these guidelines effectively.\n\n—\n\n**Report: Mobile App Startup Measurement and Optimization**\n\nThis report outlines best practices and solutions for optimizing mobile app startup time on iOS and Android platforms.\n\n**1"
          },
          "metadata": {}
        },
        {
          "output_type": "display_data",
          "data": {
            "text/plain": [
              "<IPython.core.display.Markdown object>"
            ],
            "text/markdown": ". Critical Best Practices and Guidelines:**\n\nAs detailed above, both Apple and Google emphasize the importance of minimizing app startup time for a positive user experience. Key guidelines include:\n\n*   **Measurement:** Accurately measure startup time using platform-specific tools (Xcode Organizer, MetricKit for iOS; TTID/TTFD metrics"
          },
          "metadata": {}
        },
        {
          "output_type": "display_data",
          "data": {
            "text/plain": [
              "<IPython.core.display.Markdown object>"
            ],
            "text/markdown": ", Android Vitals for Android).\n*   **Main Thread Optimization:** Avoid blocking the main thread with long-running tasks.\n*   **Lazy Loading:** Defer non-essential initializations and resource loading.\n*   **Resource Optimization:** Minimize the size of assets (images, videos) and dependencies.\n*   "
          },
          "metadata": {}
        },
        {
          "output_type": "display_data",
          "data": {
            "text/plain": [
              "<IPython.core.display.Markdown object>"
            ],
            "text/markdown": "**Asynchronous Operations:** Perform network requests and other I/O operations asynchronously.\n\n**2. Step-by-Step Solutions and Methods:**\n\nHere are three step-by-step solutions to implement these guidelines, considering different frameworks:\n\n**Solution 1: Native Development (Swift/Kotlin)**\n\n*   "
          },
          "metadata": {}
        },
        {
          "output_type": "display_data",
          "data": {
            "text/plain": [
              "<IPython.core.display.Markdown object>"
            ],
            "text/markdown": "**Steps:**\n    1.  **Measurement:** Use Xcode Instruments (iOS) or Android Profiler to identify bottlenecks during startup.\n    2.  **Code Analysis:** Review the `applicationDidFinishLaunching` (iOS) or `onCreate` (Android) methods for time-consuming operations.\n    3.  **Main"
          },
          "metadata": {}
        },
        {
          "output_type": "display_data",
          "data": {
            "text/plain": [
              "<IPython.core.display.Markdown object>"
            ],
            "text/markdown": " Thread Optimization:** Move any network requests, database operations, or heavy computations to background threads using Grand Central Dispatch (GCD) in Swift or Kotlin coroutines.\n    4.  **Lazy Initialization:** Use `lazy var` (Swift) or `by lazy` (Kotlin) to initialize objects only when they are first"
          },
          "metadata": {}
        },
        {
          "output_type": "display_data",
          "data": {
            "text/plain": [
              "<IPython.core.display.Markdown object>"
            ],
            "text/markdown": " accessed.\n    5.  **Resource Optimization:** Compress images and other assets without sacrificing quality. Use appropriate image formats (e.g., WebP for Android).\n    6.  **Dependency Analysis:** Identify and remove or replace unnecessary dependencies.\n*   **Pros:**\n    *   Maximum performance and"
          },
          "metadata": {}
        },
        {
          "output_type": "display_data",
          "data": {
            "text/plain": [
              "<IPython.core.display.Markdown object>"
            ],
            "text/markdown": " control over platform-specific features.\n    *   Access to the latest platform APIs.\n*   **Cons:**\n    *   Requires separate codebases for iOS and Android, increasing development and maintenance costs.\n    *   Steeper learning curve for each platform.\n\n**Solution 2: React Native**"
          },
          "metadata": {}
        },
        {
          "output_type": "display_data",
          "data": {
            "text/plain": [
              "<IPython.core.display.Markdown object>"
            ],
            "text/markdown": "\n\n*   **Steps:**\n    1.  **Measurement:** Use React Native performance monitoring tools (e.g., `react-native-performance`) to measure startup time.\n    2.  **Code Analysis:** Identify slow components and modules that are loaded during startup.\n    3.  **Lazy"
          },
          "metadata": {}
        },
        {
          "output_type": "display_data",
          "data": {
            "text/plain": [
              "<IPython.core.display.Markdown object>"
            ],
            "text/markdown": " Loading:** Use React's `lazy` function and `Suspense` component to load components only when they are needed.\n    4.  **Asynchronous Operations:** Use `async/await` or Promises for asynchronous operations.\n    5.  **Image Optimization:** Use libraries like `react-native-fast"
          },
          "metadata": {}
        },
        {
          "output_type": "display_data",
          "data": {
            "text/plain": [
              "<IPython.core.display.Markdown object>"
            ],
            "text/markdown": "-image` for efficient image loading and caching.\n    6.  **Bundle Optimization:** Optimize the JavaScript bundle size using tools like Metro bundler's code splitting feature.\n*   **Pros:**\n    *   Cross-platform development with a single codebase.\n    *   Large and active community.\n"
          },
          "metadata": {}
        },
        {
          "output_type": "display_data",
          "data": {
            "text/plain": [
              "<IPython.core.display.Markdown object>"
            ],
            "text/markdown": "*   **Cons:**\n    *   Performance overhead compared to native development.\n    *   Reliance on native modules for certain platform-specific features.\n\n**Solution 3: Flutter**\n\n*   **Steps:**\n    1.  **Measurement:** Use Flutter's performance profiling tools to identify bottlenecks during startup.\n"
          },
          "metadata": {}
        },
        {
          "output_type": "display_data",
          "data": {
            "text/plain": [
              "<IPython.core.display.Markdown object>"
            ],
            "text/markdown": "    2.  **Code Analysis:** Review the `main` function and initial widget tree for time-consuming operations.\n    3.  **Lazy Loading:** Use `FutureBuilder` or `StreamBuilder` to load data asynchronously.\n    4.  **Resource Optimization:** Optimize image assets and use appropriate image formats."
          },
          "metadata": {}
        },
        {
          "output_type": "display_data",
          "data": {
            "text/plain": [
              "<IPython.core.display.Markdown object>"
            ],
            "text/markdown": "\n    5.  **Widget Tree Optimization:** Minimize the complexity of the widget tree to reduce rendering time.\n    6.  **Precompilation:** Utilize Flutter's ahead-of-time (AOT) compilation for improved performance.\n*   **Pros:**\n    *   Cross-platform development with"
          },
          "metadata": {}
        },
        {
          "output_type": "display_data",
          "data": {
            "text/plain": [
              "<IPython.core.display.Markdown object>"
            ],
            "text/markdown": " excellent performance.\n    *   Rich set of built-in widgets and tools.\n    *   Hot reload for faster development.\n*   **Cons:**\n    *   Larger app size compared to native apps.\n    *   Dart language may require a learning curve for some developers.\n\n**Framework"
          },
          "metadata": {}
        },
        {
          "output_type": "display_data",
          "data": {
            "text/plain": [
              "<IPython.core.display.Markdown object>"
            ],
            "text/markdown": "/Library Considerations:**\n\n*   **SwiftUI (iOS):** Declarative UI framework that can improve code readability and maintainability. Consider using `@State` and `@ObservedObject` judiciously to avoid unnecessary view updates.\n*   **Jetpack Compose (Android):** Modern UI toolkit for building native Android apps. Similar"
          },
          "metadata": {}
        },
        {
          "output_type": "display_data",
          "data": {
            "text/plain": [
              "<IPython.core.display.Markdown object>"
            ],
            "text/markdown": " to SwiftUI, it uses a declarative approach. Use `remember` and `rememberCoroutineScope` effectively to manage state and asynchronous operations.\n*   **Kotlin Coroutines (Android):** For managing background tasks and asynchronous operations in a structured and efficient way.\n\n**3. Additional References and Sources:**\n\n*   **Apple Developer"
          },
          "metadata": {}
        },
        {
          "output_type": "display_data",
          "data": {
            "text/plain": [
              "<IPython.core.display.Markdown object>"
            ],
            "text/markdown": " Documentation:** [https://developer.apple.com/](https://developer.apple.com/)\n*   **Android Developers Documentation:** [https://developer.android.com/](https://developer.android.com/)\n*   **React Native Documentation:** [https://reactnative.dev/](https://reactnative"
          },
          "metadata": {}
        },
        {
          "output_type": "display_data",
          "data": {
            "text/plain": [
              "<IPython.core.display.Markdown object>"
            ],
            "text/markdown": ".dev/)\n*   **Flutter Documentation:** [https://flutter.dev/](https://flutter.dev/)\n*   **WWDC and Google I/O Sessions:** Search for relevant sessions on performance optimization.\n*   **Emerge Tools:** [https://emergetools.com/](https://"
          },
          "metadata": {}
        },
        {
          "output_type": "display_data",
          "data": {
            "text/plain": [
              "<IPython.core.display.Markdown object>"
            ],
            "text/markdown": "emergetools.com/) (for performance analysis)\n*   **Instabug:** [https://www.instabug.com/](https://www.instabug.com/) (for app performance monitoring)\n\nThis report provides a starting point for optimizing mobile app startup time. Continuous monitoring and profiling"
          },
          "metadata": {}
        },
        {
          "output_type": "display_data",
          "data": {
            "text/plain": [
              "<IPython.core.display.Markdown object>"
            ],
            "text/markdown": " are essential to identify and address performance bottlenecks throughout the app development lifecycle.\n"
          },
          "metadata": {}
        },
        {
          "output_type": "display_data",
          "data": {
            "text/plain": [
              "<IPython.core.display.HTML object>"
            ],
            "text/html": [
              "<style>\n",
              ".container {\n",
              "  align-items: center;\n",
              "  border-radius: 8px;\n",
              "  display: flex;\n",
              "  font-family: Google Sans, Roboto, sans-serif;\n",
              "  font-size: 14px;\n",
              "  line-height: 20px;\n",
              "  padding: 8px 12px;\n",
              "}\n",
              ".chip {\n",
              "  display: inline-block;\n",
              "  border: solid 1px;\n",
              "  border-radius: 16px;\n",
              "  min-width: 14px;\n",
              "  padding: 5px 16px;\n",
              "  text-align: center;\n",
              "  user-select: none;\n",
              "  margin: 0 8px;\n",
              "  -webkit-tap-highlight-color: transparent;\n",
              "}\n",
              ".carousel {\n",
              "  overflow: auto;\n",
              "  scrollbar-width: none;\n",
              "  white-space: nowrap;\n",
              "  margin-right: -12px;\n",
              "}\n",
              ".headline {\n",
              "  display: flex;\n",
              "  margin-right: 4px;\n",
              "}\n",
              ".gradient-container {\n",
              "  position: relative;\n",
              "}\n",
              ".gradient {\n",
              "  position: absolute;\n",
              "  transform: translate(3px, -9px);\n",
              "  height: 36px;\n",
              "  width: 9px;\n",
              "}\n",
              "@media (prefers-color-scheme: light) {\n",
              "  .container {\n",
              "    background-color: #fafafa;\n",
              "    box-shadow: 0 0 0 1px #0000000f;\n",
              "  }\n",
              "  .headline-label {\n",
              "    color: #1f1f1f;\n",
              "  }\n",
              "  .chip {\n",
              "    background-color: #ffffff;\n",
              "    border-color: #d2d2d2;\n",
              "    color: #5e5e5e;\n",
              "    text-decoration: none;\n",
              "  }\n",
              "  .chip:hover {\n",
              "    background-color: #f2f2f2;\n",
              "  }\n",
              "  .chip:focus {\n",
              "    background-color: #f2f2f2;\n",
              "  }\n",
              "  .chip:active {\n",
              "    background-color: #d8d8d8;\n",
              "    border-color: #b6b6b6;\n",
              "  }\n",
              "  .logo-dark {\n",
              "    display: none;\n",
              "  }\n",
              "  .gradient {\n",
              "    background: linear-gradient(90deg, #fafafa 15%, #fafafa00 100%);\n",
              "  }\n",
              "}\n",
              "@media (prefers-color-scheme: dark) {\n",
              "  .container {\n",
              "    background-color: #1f1f1f;\n",
              "    box-shadow: 0 0 0 1px #ffffff26;\n",
              "  }\n",
              "  .headline-label {\n",
              "    color: #fff;\n",
              "  }\n",
              "  .chip {\n",
              "    background-color: #2c2c2c;\n",
              "    border-color: #3c4043;\n",
              "    color: #fff;\n",
              "    text-decoration: none;\n",
              "  }\n",
              "  .chip:hover {\n",
              "    background-color: #353536;\n",
              "  }\n",
              "  .chip:focus {\n",
              "    background-color: #353536;\n",
              "  }\n",
              "  .chip:active {\n",
              "    background-color: #464849;\n",
              "    border-color: #53575b;\n",
              "  }\n",
              "  .logo-light {\n",
              "    display: none;\n",
              "  }\n",
              "  .gradient {\n",
              "    background: linear-gradient(90deg, #1f1f1f 15%, #1f1f1f00 100%);\n",
              "  }\n",
              "}\n",
              "</style>\n",
              "<div class=\"container\">\n",
              "  <div class=\"headline\">\n",
              "    <svg class=\"logo-light\" width=\"18\" height=\"18\" viewBox=\"9 9 35 35\" fill=\"none\" xmlns=\"http://www.w3.org/2000/svg\">\n",
              "      <path fill-rule=\"evenodd\" clip-rule=\"evenodd\" d=\"M42.8622 27.0064C42.8622 25.7839 42.7525 24.6084 42.5487 23.4799H26.3109V30.1568H35.5897C35.1821 32.3041 33.9596 34.1222 32.1258 35.3448V39.6864H37.7213C40.9814 36.677 42.8622 32.2571 42.8622 27.0064V27.0064Z\" fill=\"#4285F4\"/>\n",
              "      <path fill-rule=\"evenodd\" clip-rule=\"evenodd\" d=\"M26.3109 43.8555C30.9659 43.8555 34.8687 42.3195 37.7213 39.6863L32.1258 35.3447C30.5898 36.3792 28.6306 37.0061 26.3109 37.0061C21.8282 37.0061 18.0195 33.9811 16.6559 29.906H10.9194V34.3573C13.7563 39.9841 19.5712 43.8555 26.3109 43.8555V43.8555Z\" fill=\"#34A853\"/>\n",
              "      <path fill-rule=\"evenodd\" clip-rule=\"evenodd\" d=\"M16.6559 29.8904C16.3111 28.8559 16.1074 27.7588 16.1074 26.6146C16.1074 25.4704 16.3111 24.3733 16.6559 23.3388V18.8875H10.9194C9.74388 21.2072 9.06992 23.8247 9.06992 26.6146C9.06992 29.4045 9.74388 32.022 10.9194 34.3417L15.3864 30.8621L16.6559 29.8904V29.8904Z\" fill=\"#FBBC05\"/>\n",
              "      <path fill-rule=\"evenodd\" clip-rule=\"evenodd\" d=\"M26.3109 16.2386C28.85 16.2386 31.107 17.1164 32.9095 18.8091L37.8466 13.8719C34.853 11.082 30.9659 9.3736 26.3109 9.3736C19.5712 9.3736 13.7563 13.245 10.9194 18.8875L16.6559 23.3388C18.0195 19.2636 21.8282 16.2386 26.3109 16.2386V16.2386Z\" fill=\"#EA4335\"/>\n",
              "    </svg>\n",
              "    <svg class=\"logo-dark\" width=\"18\" height=\"18\" viewBox=\"0 0 48 48\" xmlns=\"http://www.w3.org/2000/svg\">\n",
              "      <circle cx=\"24\" cy=\"23\" fill=\"#FFF\" r=\"22\"/>\n",
              "      <path d=\"M33.76 34.26c2.75-2.56 4.49-6.37 4.49-11.26 0-.89-.08-1.84-.29-3H24.01v5.99h8.03c-.4 2.02-1.5 3.56-3.07 4.56v.75l3.91 2.97h.88z\" fill=\"#4285F4\"/>\n",
              "      <path d=\"M15.58 25.77A8.845 8.845 0 0 0 24 31.86c1.92 0 3.62-.46 4.97-1.31l4.79 3.71C31.14 36.7 27.65 38 24 38c-5.93 0-11.01-3.4-13.45-8.36l.17-1.01 4.06-2.85h.8z\" fill=\"#34A853\"/>\n",
              "      <path d=\"M15.59 20.21a8.864 8.864 0 0 0 0 5.58l-5.03 3.86c-.98-2-1.53-4.25-1.53-6.64 0-2.39.55-4.64 1.53-6.64l1-.22 3.81 2.98.22 1.08z\" fill=\"#FBBC05\"/>\n",
              "      <path d=\"M24 14.14c2.11 0 4.02.75 5.52 1.98l4.36-4.36C31.22 9.43 27.81 8 24 8c-5.93 0-11.01 3.4-13.45 8.36l5.03 3.85A8.86 8.86 0 0 1 24 14.14z\" fill=\"#EA4335\"/>\n",
              "    </svg>\n",
              "    <div class=\"gradient-container\"><div class=\"gradient\"></div></div>\n",
              "  </div>\n",
              "  <div class=\"carousel\">\n",
              "    <a class=\"chip\" href=\"https://vertexaisearch.cloud.google.com/grounding-api-redirect/AUBnsYumoftSFdrW0jxliyGlpejqfsWbkDaW0QwLA0iAuU6cMlhazaQhQRVcQ1ihesBsZur3nxFLh7KC7iI5T-ej2lQe19ea_mAUI8nM78YEa8XANWU4MOTny-jMDrVNzCm0EKQyFZDntvDFF8IphYOAD9m5H_d37zB-TRI2nNmXLywh_nCocqamYAzU-do_BvnoDdW69f9IRS4FbvZE7dWPwCgassyuoFYE\">Android app launch time measurement</a>\n",
              "    <a class=\"chip\" href=\"https://vertexaisearch.cloud.google.com/grounding-api-redirect/AUBnsYtY4irbB8tAT2PNylQpDlscJQ3xtxC_h9GLS6BMHZx9yt99qvlMOMwWupNuDcdtdRrzk1gkUjBGp3i_Uvm9GwZSaZnE5SzwbsASpbxqIACZQjLrI2gKDiB-2Yeh0VmohZSNgD2sZTsXuQP4UvZfkh0GnYE_JwSLJCGsTV0-Llc0yLkw7YEDDPErPfbZxvs7hrFvnNtpGL9Yfgkt1NSauXj4Elk3Wm4AYno=\">Android app startup time optimization</a>\n",
              "    <a class=\"chip\" href=\"https://vertexaisearch.cloud.google.com/grounding-api-redirect/AUBnsYtc3bzXwHjsj0QULhYa3gD-pSBoAuL8m1USIXdlV-Dg3ZRoGvlmu-RZp8Tl-JkRLFeHcz6sOL7wGhBL-9HVqfae9HpPhqZ7KnnNt_TX9NzUIsuDcdNASBh70o68lyHYWwJv-C9BJJcdRJvZN1gEHobw2ERbABfCF9yykueNGoeNH3fyiV1hlHhX0FCkyALVE-s3rzEYNi2az2Hf3DFqwlOzK-eBe1REhJ9g7RfS\">Google Android performance best practices</a>\n",
              "  </div>\n",
              "</div>\n"
            ]
          },
          "metadata": {}
        }
      ]
    },
    {
      "cell_type": "markdown",
      "source": [
        "# my deep research"
      ],
      "metadata": {
        "id": "oB2KXYi4pURa"
      }
    },
    {
      "cell_type": "code",
      "source": [
        "from google.colab import drive\n",
        "from google import genai\n",
        "from google.genai.types import GenerateContentConfig, Tool\n",
        "from IPython.display import display, HTML, Markdown\n",
        "import io\n",
        "import json\n",
        "import re\n",
        "import os\n",
        "from google.colab import userdata\n",
        "from datetime import datetime\n",
        "\n",
        "GOOGLE_API_KEY=userdata.get('GOOGLE_API_KEY')\n",
        "\n",
        "def my_deep_research(topic, sys_instruction):\n",
        "  \"\"\"Generates a report using Gemini 2.0, displays it with citations, and saves it to Google Drive.\n",
        "\n",
        "  Args:\n",
        "    topic: The topic of the report.\n",
        "    sys_instruction: The system instruction for Gemini 2.0.\n",
        "  \"\"\"\n",
        "\n",
        "  # Mount Google Drive\n",
        "  drive.mount('/content/drive')\n",
        "\n",
        "  # Initialize Gemini client\n",
        "  client = genai.Client(api_key=GOOGLE_API_KEY)\n",
        "  MODEL_ID = \"gemini-2.0-pro-exp\"  # Or your preferred model\n",
        "\n",
        "  # Configure Gemini with search tool\n",
        "  config = GenerateContentConfig(\n",
        "      system_instruction=sys_instruction,\n",
        "      tools=[Tool(google_search={})],\n",
        "      temperature=0\n",
        "  )\n",
        "\n",
        "  # Generate report content (streaming)\n",
        "  response_stream = client.models.generate_content_stream(\n",
        "      model=MODEL_ID, config=config, contents=[topic]\n",
        "  )\n",
        "\n",
        "  report = io.StringIO()\n",
        "  for chunk in response_stream:\n",
        "    candidate = chunk.candidates[0]\n",
        "\n",
        "    for part in candidate.content.parts:\n",
        "      if part.text:\n",
        "        display(Markdown(part.text))\n",
        "\n",
        "        # Extract report content\n",
        "        if m := re.search('(^|\\n)-+\\n(.*)$', part.text, re.M):\n",
        "          report.write(m.group(2))\n",
        "        elif report.tell():\n",
        "          report.write(part.text)\n",
        "\n",
        "      else:\n",
        "        print(json.dumps(part.model_dump(exclude_none=True), indent=2))\n",
        "\n",
        "    # Display search citations\n",
        "    if gm := candidate.grounding_metadata:\n",
        "      if sep := gm.search_entry_point:\n",
        "        display(HTML(sep.rendered_content))\n",
        "\n",
        "  # Save the report to Google Drive\n",
        "  report_content = report.getvalue().replace('$', r'\\$')\n",
        "  timestamp = datetime.now().strftime(\"%Y%m%d_%H%M%S\")  # Format: YYYYMMDD_HHMMSS\n",
        "  file_path = os.path.join('/content/drive/My Drive/Colab Notebooks/output', f'{topic}_{timestamp}.md')\n",
        "  with open(file_path, 'w') as f:\n",
        "    f.write(report_content)\n",
        "\n",
        "  print(f\"Report saved to: {file_path}\")\n"
      ],
      "metadata": {
        "id": "GtHyTlUZpfDp",
        "outputId": "14cf8ee6-9009-4acb-f98c-cd915225a971",
        "colab": {
          "base_uri": "https://localhost:8080/"
        }
      },
      "execution_count": 1,
      "outputs": [
        {
          "output_type": "stream",
          "name": "stderr",
          "text": [
            "/usr/local/lib/python3.11/dist-packages/pydantic/_internal/_generate_schema.py:502: UserWarning: <built-in function any> is not a Python type (it may be an instance of an object), Pydantic will allow any object with no validation since we cannot even enforce that the input is an instance of the given type. To get rid of this error wrap the type with `pydantic.SkipValidation`.\n",
            "  warn(\n"
          ]
        }
      ]
    },
    {
      "cell_type": "code",
      "source": [
        "# Example usage\n",
        "topic = \"combine_llm_with_notion\"\n",
        "\n",
        "sys_instruction = \"\"\"\n",
        "You are an efficiency fan and expert in LLM python, chacing best chance to improve\n",
        "personal efficicienty by using the latest llm technology.\n",
        "\n",
        "1. search online to find out the best practice.\n",
        "2. check out the most reliable code source and present demo python snippets.\n",
        "3. address the question: how to find out page_id in notion.\n",
        "4. Feel free to plan your work and talk about it, but when you start writing the report,\n",
        "put a line of dashes (---) to demarcate the report itself, and say nothing else after\n",
        "the report has finished.\n",
        "5. add citations of web link most relevant to the question.\n",
        "6. output in markdown format.\n",
        "\"\"\" # [Your detailed instructions here]\n",
        "\n",
        "\n",
        "my_deep_research(topic, sys_instruction)"
      ],
      "metadata": {
        "collapsed": true,
        "id": "6j7E7UdArSbT",
        "outputId": "0eac03d2-384c-451f-e190-9c1c9f771673",
        "colab": {
          "base_uri": "https://localhost:8080/",
          "height": 1000
        }
      },
      "execution_count": 2,
      "outputs": [
        {
          "output_type": "stream",
          "name": "stdout",
          "text": [
            "Mounted at /content/drive\n"
          ]
        },
        {
          "output_type": "display_data",
          "data": {
            "text/plain": [
              "<IPython.core.display.Markdown object>"
            ],
            "text/markdown": "Okay, I"
          },
          "metadata": {}
        },
        {
          "output_type": "display_data",
          "data": {
            "text/plain": [
              "<IPython.core.display.Markdown object>"
            ],
            "text/markdown": " will help you to find out the best practice to combine LLM with Notion. I"
          },
          "metadata": {}
        },
        {
          "output_type": "display_data",
          "data": {
            "text/plain": [
              "<IPython.core.display.Markdown object>"
            ],
            "text/markdown": " will follow these steps:\n\n1.  **Search online:** Use Google Search to find the"
          },
          "metadata": {}
        },
        {
          "output_type": "display_data",
          "data": {
            "text/plain": [
              "<IPython.core.display.Markdown object>"
            ],
            "text/markdown": " best practices, reliable code sources, and tutorials on integrating LLM with Notion.\n2.  **Code examples:** Identify and present demo Python snippets for interacting"
          },
          "metadata": {}
        },
        {
          "output_type": "display_data",
          "data": {
            "text/plain": [
              "<IPython.core.display.Markdown object>"
            ],
            "text/markdown": " with the Notion API, especially focusing on how to find a page ID.\n3.  **Address \"page\\_id\" question:** Provide a clear explanation"
          },
          "metadata": {}
        },
        {
          "output_type": "display_data",
          "data": {
            "text/plain": [
              "<IPython.core.display.Markdown object>"
            ],
            "text/markdown": " and code example on how to find a Notion page ID.\n4.  **Structure:** Organize the information in a well-structured markdown report.\n5. **Citation:** Add the most relevant web link.\n\nHere's the plan"
          },
          "metadata": {}
        },
        {
          "output_type": "display_data",
          "data": {
            "text/plain": [
              "<IPython.core.display.Markdown object>"
            ],
            "text/markdown": ":\n\n*   Perform searches to gather information on connecting LLMs with Notion, focusing on Python libraries and API usage.\n*   Look for specific examples and documentation related to the Notion API, especially concerning page and database interactions.\n*   "
          },
          "metadata": {}
        },
        {
          "output_type": "display_data",
          "data": {
            "text/plain": [
              "<IPython.core.display.Markdown object>"
            ],
            "text/markdown": "Extract and adapt relevant code snippets, focusing on clarity and simplicity.\n*   Specifically address how to retrieve a page ID in Notion using the API.\n*   Compile everything into a concise, informative report.\n\nLet's start with the searches:\n\n"
          },
          "metadata": {}
        },
        {
          "output_type": "display_data",
          "data": {
            "text/plain": [
              "<IPython.core.display.Markdown object>"
            ],
            "text/markdown": "---"
          },
          "metadata": {}
        },
        {
          "output_type": "display_data",
          "data": {
            "text/plain": [
              "<IPython.core.display.Markdown object>"
            ],
            "text/markdown": "\n\n# Combining LLMs with Notion: Best Practices and Finding Page IDs\n\nThis"
          },
          "metadata": {}
        },
        {
          "output_type": "display_data",
          "data": {
            "text/plain": [
              "<IPython.core.display.Markdown object>"
            ],
            "text/markdown": " report outlines how to combine Large Language Models (LLMs) with Notion, focusing"
          },
          "metadata": {}
        },
        {
          "output_type": "display_data",
          "data": {
            "text/plain": [
              "<IPython.core.display.Markdown object>"
            ],
            "text/markdown": " on Python implementations and best practices. It also specifically addresses how to find Notion page IDs.\n\n## Best Practices for Combining LLMs with Notion\n\nSeveral approaches exist for integrating"
          },
          "metadata": {}
        },
        {
          "output_type": "display_data",
          "data": {
            "text/plain": [
              "<IPython.core.display.Markdown object>"
            ],
            "text/markdown": " LLMs with Notion, enabling powerful automation and content generation. Here's a breakdown of common strategies and best practices:\n\n1.  **Using the Notion API:**"
          },
          "metadata": {}
        },
        {
          "output_type": "display_data",
          "data": {
            "text/plain": [
              "<IPython.core.display.Markdown object>"
            ],
            "text/markdown": " The official Notion API is the primary way to interact with Notion programmatically.  It allows you to read, create, update, and delete content within Notion databases and pages.  Python libraries simplify this interaction.\n\n2.  **Choosing"
          },
          "metadata": {}
        },
        {
          "output_type": "display_data",
          "data": {
            "text/plain": [
              "<IPython.core.display.Markdown object>"
            ],
            "text/markdown": " a Python Library:** Several Python libraries facilitate working with the Notion API:\n    *   **`notion-client` (and `notion-sdk-py`)**:  These are popular choices, with `notion-sdk"
          },
          "metadata": {}
        },
        {
          "output_type": "display_data",
          "data": {
            "text/plain": [
              "<IPython.core.display.Markdown object>"
            ],
            "text/markdown": "-py` being a rewrite of the official JavaScript SDK in Python, offering both synchronous and asynchronous operation. [8, 14]\n    *   **`PyNotion`**:  A library designed for simplified access to the Notion API, making integration and automation easier. [9, 3]\n    *   "
          },
          "metadata": {}
        },
        {
          "output_type": "display_data",
          "data": {
            "text/plain": [
              "<IPython.core.display.Markdown object>"
            ],
            "text/markdown": "**`notion-py`**: An unofficial client for Notion's API v3. It provides an object-oriented interface and local data caching.  However, note that some features like real-time data binding might be outdated. [7]\n\n3.  **Authentication:** You'll need an integration"
          },
          "metadata": {}
        },
        {
          "output_type": "display_data",
          "data": {
            "text/plain": [
              "<IPython.core.display.Markdown object>"
            ],
            "text/markdown": " token (also called an \"Internal Integration Secret\") to authenticate with the Notion API.  Create an integration in your Notion workspace settings (\"My Integrations\" or \"Connections\") and obtain the token. [4, 5, 10, 19]\n\n4.  **Common Use Cases:**\n    "
          },
          "metadata": {}
        },
        {
          "output_type": "display_data",
          "data": {
            "text/plain": [
              "<IPython.core.display.Markdown object>"
            ],
            "text/markdown": "*   **Automated Task Management:** Use LLMs to process natural language input and create, update, or delete tasks in a Notion database. [19]\n    *   **Content Generation:**  Generate text with an LLM and automatically insert it into Notion pages or database entries.\n    *   **"
          },
          "metadata": {}
        },
        {
          "output_type": "display_data",
          "data": {
            "text/plain": [
              "<IPython.core.display.Markdown object>"
            ],
            "text/markdown": "Chatbots:** Build chatbots that can query and interact with Notion content, providing a conversational interface to your knowledge base. [21]\n    *   **Data Analysis and Summarization:**  Extract data from Notion, analyze it with an LLM, and write summaries back to Notion.\n    *   **Workflow"
          },
          "metadata": {}
        },
        {
          "output_type": "display_data",
          "data": {
            "text/plain": [
              "<IPython.core.display.Markdown object>"
            ],
            "text/markdown": " Automation:** Combine Notion with other services using tools like n8n, leveraging LLMs for intelligent decision-making within workflows. [20]\n\n5. **Data Handling:**\n    *   Notion data is structured using blocks.  Understanding the block structure is crucial for interacting with page content.\n    *   When"
          },
          "metadata": {}
        },
        {
          "output_type": "display_data",
          "data": {
            "text/plain": [
              "<IPython.core.display.Markdown object>"
            ],
            "text/markdown": " creating or updating pages, you'll often work with JSON payloads that represent the desired Notion content.\n    *   Libraries like `notion-client` handle the conversion between Python objects and Notion's internal data formats.\n\n6. **Rate Limits:** The Notion API has rate limits (around three requests per second)."
          },
          "metadata": {}
        },
        {
          "output_type": "display_data",
          "data": {
            "text/plain": [
              "<IPython.core.display.Markdown object>"
            ],
            "text/markdown": "  Implement error handling and retry mechanisms to handle potential rate-limiting issues. [18]\n\n## Finding Notion Page IDs\n\nThere are two primary ways to find a Notion page ID:\n\n1.  **From the URL:** The easiest way is to look at the URL of the Notion page in your web browser. The"
          },
          "metadata": {}
        },
        {
          "output_type": "display_data",
          "data": {
            "text/plain": [
              "<IPython.core.display.Markdown object>"
            ],
            "text/markdown": " page ID is the 32-character alphanumeric string at the end of the URL (before any query parameters starting with \"?\"). [2, 11]\n    *   **Example:**  `https://www.notion.so/yourworkspace/My-Page-Title-c0d20"
          },
          "metadata": {}
        },
        {
          "output_type": "display_data",
          "data": {
            "text/plain": [
              "<IPython.core.display.Markdown object>"
            ],
            "text/markdown": "a71c0944985ae96e661ccc99821`  The page ID is `c0d20a71c0944985ae96e661ccc99821`.\n    *   **"
          },
          "metadata": {}
        },
        {
          "output_type": "display_data",
          "data": {
            "text/plain": [
              "<IPython.core.display.Markdown object>"
            ],
            "text/markdown": "Formatted vs. Unformatted:** The ID in the URL is usually *unformatted* (no hyphens).  The API often requires the *formatted* ID, which has hyphens inserted in the pattern 8-4-4-4-12: `c0d20a71-c09"
          },
          "metadata": {}
        },
        {
          "output_type": "display_data",
          "data": {
            "text/plain": [
              "<IPython.core.display.Markdown object>"
            ],
            "text/markdown": "4-4985-ae96-e661ccc99821`. [2]\n\n2.  **Using the API:** You can also retrieve the page ID programmatically using the API.  This is useful when you don't have the URL readily available or when you'"
          },
          "metadata": {}
        },
        {
          "output_type": "display_data",
          "data": {
            "text/plain": [
              "<IPython.core.display.Markdown object>"
            ],
            "text/markdown": "re already interacting with the API.\n    * Get all pages from database and prepare dic (key:value / url:id) and use it in code. [6]\n\n## Demo Python Snippets\n\n**1. Basic Setup and Authentication (using `notion-client`):**\n\n"
          },
          "metadata": {}
        },
        {
          "output_type": "display_data",
          "data": {
            "text/plain": [
              "<IPython.core.display.Markdown object>"
            ],
            "text/markdown": "```python\nfrom notion_client import Client\n\n# Replace with your integration token\nnotion = Client(auth=\"secret_YOUR_INTEGRATION_TOKEN\")\n\n# Example: List databases (requires appropriate permissions)\ndatabases = notion.databases.list()\nprint(databases)\n```"
          },
          "metadata": {}
        },
        {
          "output_type": "display_data",
          "data": {
            "text/plain": [
              "<IPython.core.display.Markdown object>"
            ],
            "text/markdown": "\n\n**2. Finding Page"
          },
          "metadata": {}
        },
        {
          "output_type": "display_data",
          "data": {
            "text/plain": [
              "<IPython.core.display.Markdown object>"
            ],
            "text/markdown": " ID from URL (and formatting):**\n\n"
          },
          "metadata": {}
        },
        {
          "output_type": "display_data",
          "data": {
            "text/plain": [
              "<IPython.core.display.Markdown object>"
            ],
            "text/markdown": "```python\nimport re\n\ndef get_and_format_page_id(url: str) -> str:\n    \"\"\"Extracts and formats a Notion page ID from a URL.\"\"\"\n    match = re.search(r\"([a-f0-9]{32})(?:.*)?$\", url)\n    if match:\n        unformatted_id = match.group(1)\n        formatted_id = (\n            f\"{unformatted_id[:8]}-{unformatted_id[8:12]}-{unformatted_id[12:16]}-\"\n            f\"{unformatted_id[16:20]}-{unformatted_id[20:]}\"\n        )\n        return formatted_id\n    else:\n        return None  # Or raise an exception\n\n# Example usage\nurl = \"https://www.notion.so/myworkspace/My-Page-Title-c0d20a71c0944985ae96e661ccc99821\"\npage_id = get_and_format_page_id(url)\n\nif page_id:\n    print(f\"Formatted Page ID: {page_id}\")\nelse:\n    print(\"Could not extract Page ID from URL.\")\n\n```"
          },
          "metadata": {}
        },
        {
          "output_type": "display_data",
          "data": {
            "text/plain": [
              "<IPython.core.display.Markdown object>"
            ],
            "text/markdown": "\n\n**3. Retrieving Page Content (Blocks) (using `notion-client`):**\n\n"
          },
          "metadata": {}
        },
        {
          "output_type": "display_data",
          "data": {
            "text/plain": [
              "<IPython.core.display.Markdown object>"
            ],
            "text/markdown": "```python\nfrom notion_client import Client\n\nnotion = Client(auth=\"secret_YOUR_INTEGRATION_TOKEN\")\n\n# Replace with your formatted page ID\npage_id = \"c0d20a71-c094-4985-ae96-e661ccc99821\"\n\ndef get_page_content(page_id: str):\n    \"\"\"Retrieves and prints the content (blocks) of a Notion page.\"\"\"\n    blocks = notion.blocks.children.list(block_id=page_id)\n\n    for block in blocks[\"results\"]:\n        if block[\"type\"] == \"paragraph\":\n            try:\n                print(block[\"paragraph\"][\"rich_text\"][0][\"plain_text\"])\n            except IndexError:\n                print(\"(Empty paragraph)\") # Handle empty paragraphs\n        elif block[\"type\"] == \"heading_1\":\n            print(f\"# {block['heading_1']['rich_text'][0]['plain_text']}\")\n        elif block[\"type\"] == \"heading_2\":\n            print(f\"## {block['heading_2']['rich_text'][0]['plain_text']}\")\n        elif block[\"type\"] == \"heading_3\":\n            print(f\"### {block['heading_3']['rich_text'][0]['plain_text']}\")\n        elif block[\"type\"] == \"bulleted_list_item\":\n            print(f\"* {block['bulleted_list_item']['rich_text'][0]['plain_text']}\")\n        # Add more block type handling as needed\n        else:\n            print(f\"Unsupported block type: {block['type']}\")\n\nget_page_content(page_id)\n\n```"
          },
          "metadata": {}
        },
        {
          "output_type": "display_data",
          "data": {
            "text/plain": [
              "<IPython.core.display.Markdown object>"
            ],
            "text/markdown": "\n**4. Creating a page in database (using `notion_client`):**"
          },
          "metadata": {}
        },
        {
          "output_type": "display_data",
          "data": {
            "text/plain": [
              "<IPython.core.display.Markdown object>"
            ],
            "text/markdown": "\n\n"
          },
          "metadata": {}
        },
        {
          "output_type": "display_data",
          "data": {
            "text/plain": [
              "<IPython.core.display.Markdown object>"
            ],
            "text/markdown": "```python\nfrom notion_client import Client\n\nnotion = Client(auth=\"secret_YOUR_INTEGRATION_TOKEN\")\ndatabase_id = \"YOUR_DATABASE_ID\" # get database id from url\n\ndef create_page_in_database(database_id:str, title:str, content:str):\n    new_page_data = {\n        \"parent\": {\"database_id\": database_id},\n        \"properties\": {\n            \"Name\": {  # Assuming your database has a \"Name\" property (Title type)\n                \"title\": [{\"text\": {\"content\": title}}]\n            },\n        },\n        \"children\":[\n            {\n                \"object\": \"block\",\n                \"type\": \"paragraph\",\n                \"paragraph\": {\n                    \"rich_text\": [\n                        {\n                            \"type\": \"text\",\n                            \"text\": {\n                                \"content\": content\n                            }\n                        }\n                    ]\n                }\n            }\n        ]\n    }\n    created_page = notion.pages.create(**new_page_data)\n    return created_page\n\n# create a new page\ncreate_page_in_database(database_id, \"My New Page Title\", \"This is the content of my new page.\")\n```"
          },
          "metadata": {}
        },
        {
          "output_type": "display_data",
          "data": {
            "text/plain": [
              "<IPython.core.display.Markdown object>"
            ],
            "text/markdown": "\n\nThese snippets provide a starting point for integrating LLMs with Notion.  You can expand upon these examples to build more complex applications, such as creating entire workflows triggered by natural language commands processed by an LLM. Remember to consult"
          },
          "metadata": {}
        },
        {
          "output_type": "display_data",
          "data": {
            "text/plain": [
              "<IPython.core.display.Markdown object>"
            ],
            "text/markdown": " the official Notion API documentation for the most up-to-date information and capabilities.\n\nMost relevant web link: [2] Working with page content - Notion API\n"
          },
          "metadata": {}
        },
        {
          "output_type": "display_data",
          "data": {
            "text/plain": [
              "<IPython.core.display.HTML object>"
            ],
            "text/html": [
              "<style>\n",
              ".container {\n",
              "  align-items: center;\n",
              "  border-radius: 8px;\n",
              "  display: flex;\n",
              "  font-family: Google Sans, Roboto, sans-serif;\n",
              "  font-size: 14px;\n",
              "  line-height: 20px;\n",
              "  padding: 8px 12px;\n",
              "}\n",
              ".chip {\n",
              "  display: inline-block;\n",
              "  border: solid 1px;\n",
              "  border-radius: 16px;\n",
              "  min-width: 14px;\n",
              "  padding: 5px 16px;\n",
              "  text-align: center;\n",
              "  user-select: none;\n",
              "  margin: 0 8px;\n",
              "  -webkit-tap-highlight-color: transparent;\n",
              "}\n",
              ".carousel {\n",
              "  overflow: auto;\n",
              "  scrollbar-width: none;\n",
              "  white-space: nowrap;\n",
              "  margin-right: -12px;\n",
              "}\n",
              ".headline {\n",
              "  display: flex;\n",
              "  margin-right: 4px;\n",
              "}\n",
              ".gradient-container {\n",
              "  position: relative;\n",
              "}\n",
              ".gradient {\n",
              "  position: absolute;\n",
              "  transform: translate(3px, -9px);\n",
              "  height: 36px;\n",
              "  width: 9px;\n",
              "}\n",
              "@media (prefers-color-scheme: light) {\n",
              "  .container {\n",
              "    background-color: #fafafa;\n",
              "    box-shadow: 0 0 0 1px #0000000f;\n",
              "  }\n",
              "  .headline-label {\n",
              "    color: #1f1f1f;\n",
              "  }\n",
              "  .chip {\n",
              "    background-color: #ffffff;\n",
              "    border-color: #d2d2d2;\n",
              "    color: #5e5e5e;\n",
              "    text-decoration: none;\n",
              "  }\n",
              "  .chip:hover {\n",
              "    background-color: #f2f2f2;\n",
              "  }\n",
              "  .chip:focus {\n",
              "    background-color: #f2f2f2;\n",
              "  }\n",
              "  .chip:active {\n",
              "    background-color: #d8d8d8;\n",
              "    border-color: #b6b6b6;\n",
              "  }\n",
              "  .logo-dark {\n",
              "    display: none;\n",
              "  }\n",
              "  .gradient {\n",
              "    background: linear-gradient(90deg, #fafafa 15%, #fafafa00 100%);\n",
              "  }\n",
              "}\n",
              "@media (prefers-color-scheme: dark) {\n",
              "  .container {\n",
              "    background-color: #1f1f1f;\n",
              "    box-shadow: 0 0 0 1px #ffffff26;\n",
              "  }\n",
              "  .headline-label {\n",
              "    color: #fff;\n",
              "  }\n",
              "  .chip {\n",
              "    background-color: #2c2c2c;\n",
              "    border-color: #3c4043;\n",
              "    color: #fff;\n",
              "    text-decoration: none;\n",
              "  }\n",
              "  .chip:hover {\n",
              "    background-color: #353536;\n",
              "  }\n",
              "  .chip:focus {\n",
              "    background-color: #353536;\n",
              "  }\n",
              "  .chip:active {\n",
              "    background-color: #464849;\n",
              "    border-color: #53575b;\n",
              "  }\n",
              "  .logo-light {\n",
              "    display: none;\n",
              "  }\n",
              "  .gradient {\n",
              "    background: linear-gradient(90deg, #1f1f1f 15%, #1f1f1f00 100%);\n",
              "  }\n",
              "}\n",
              "</style>\n",
              "<div class=\"container\">\n",
              "  <div class=\"headline\">\n",
              "    <svg class=\"logo-light\" width=\"18\" height=\"18\" viewBox=\"9 9 35 35\" fill=\"none\" xmlns=\"http://www.w3.org/2000/svg\">\n",
              "      <path fill-rule=\"evenodd\" clip-rule=\"evenodd\" d=\"M42.8622 27.0064C42.8622 25.7839 42.7525 24.6084 42.5487 23.4799H26.3109V30.1568H35.5897C35.1821 32.3041 33.9596 34.1222 32.1258 35.3448V39.6864H37.7213C40.9814 36.677 42.8622 32.2571 42.8622 27.0064V27.0064Z\" fill=\"#4285F4\"/>\n",
              "      <path fill-rule=\"evenodd\" clip-rule=\"evenodd\" d=\"M26.3109 43.8555C30.9659 43.8555 34.8687 42.3195 37.7213 39.6863L32.1258 35.3447C30.5898 36.3792 28.6306 37.0061 26.3109 37.0061C21.8282 37.0061 18.0195 33.9811 16.6559 29.906H10.9194V34.3573C13.7563 39.9841 19.5712 43.8555 26.3109 43.8555V43.8555Z\" fill=\"#34A853\"/>\n",
              "      <path fill-rule=\"evenodd\" clip-rule=\"evenodd\" d=\"M16.6559 29.8904C16.3111 28.8559 16.1074 27.7588 16.1074 26.6146C16.1074 25.4704 16.3111 24.3733 16.6559 23.3388V18.8875H10.9194C9.74388 21.2072 9.06992 23.8247 9.06992 26.6146C9.06992 29.4045 9.74388 32.022 10.9194 34.3417L15.3864 30.8621L16.6559 29.8904V29.8904Z\" fill=\"#FBBC05\"/>\n",
              "      <path fill-rule=\"evenodd\" clip-rule=\"evenodd\" d=\"M26.3109 16.2386C28.85 16.2386 31.107 17.1164 32.9095 18.8091L37.8466 13.8719C34.853 11.082 30.9659 9.3736 26.3109 9.3736C19.5712 9.3736 13.7563 13.245 10.9194 18.8875L16.6559 23.3388C18.0195 19.2636 21.8282 16.2386 26.3109 16.2386V16.2386Z\" fill=\"#EA4335\"/>\n",
              "    </svg>\n",
              "    <svg class=\"logo-dark\" width=\"18\" height=\"18\" viewBox=\"0 0 48 48\" xmlns=\"http://www.w3.org/2000/svg\">\n",
              "      <circle cx=\"24\" cy=\"23\" fill=\"#FFF\" r=\"22\"/>\n",
              "      <path d=\"M33.76 34.26c2.75-2.56 4.49-6.37 4.49-11.26 0-.89-.08-1.84-.29-3H24.01v5.99h8.03c-.4 2.02-1.5 3.56-3.07 4.56v.75l3.91 2.97h.88z\" fill=\"#4285F4\"/>\n",
              "      <path d=\"M15.58 25.77A8.845 8.845 0 0 0 24 31.86c1.92 0 3.62-.46 4.97-1.31l4.79 3.71C31.14 36.7 27.65 38 24 38c-5.93 0-11.01-3.4-13.45-8.36l.17-1.01 4.06-2.85h.8z\" fill=\"#34A853\"/>\n",
              "      <path d=\"M15.59 20.21a8.864 8.864 0 0 0 0 5.58l-5.03 3.86c-.98-2-1.53-4.25-1.53-6.64 0-2.39.55-4.64 1.53-6.64l1-.22 3.81 2.98.22 1.08z\" fill=\"#FBBC05\"/>\n",
              "      <path d=\"M24 14.14c2.11 0 4.02.75 5.52 1.98l4.36-4.36C31.22 9.43 27.81 8 24 8c-5.93 0-11.01 3.4-13.45 8.36l5.03 3.85A8.86 8.86 0 0 1 24 14.14z\" fill=\"#EA4335\"/>\n",
              "    </svg>\n",
              "    <div class=\"gradient-container\"><div class=\"gradient\"></div></div>\n",
              "  </div>\n",
              "  <div class=\"carousel\">\n",
              "    <a class=\"chip\" href=\"https://vertexaisearch.cloud.google.com/grounding-api-redirect/AUBnsYuDD2tCtobkKNSZhi1I5rcsQuIer0getAJQmblTOp04rrF_fWu673vQY5R3YvOvJOzAEoiiZ3sBc_rFxM1tFQhMIHbtzNe-vOzsLlkomCXG9SBqQg8nZPhsGYXhhR5_kSDvBxbXtxGaA9V8F2TxHOG_Z1wGthdfxuhOjS-y9D6Xug4L4OMFYyMjMEav1mUjExnZ9Jk=\">notion python library</a>\n",
              "    <a class=\"chip\" href=\"https://vertexaisearch.cloud.google.com/grounding-api-redirect/AUBnsYsCX9AlQAl2GCATWNNOgtxa6uAbAvhgu5k9VikNAJTsGybHztHer5U5q2ZOQrV1-M47m9UAVGoNovlu4yvBbyJzNnsgp0Wkg2EC7vglVSnUZn6Iisl2Pp9TOmtbpYXq3eJXTc2pMB1OHqTnFkHGvPjB5nqR-OwF-OCl1bN1MYCf1qx5gyySK82pfN2HOgRJYyjxDHg087--2g==\">notion api python tutorial</a>\n",
              "    <a class=\"chip\" href=\"https://vertexaisearch.cloud.google.com/grounding-api-redirect/AUBnsYsdoZ_wLgjk4OuLoWlo0SmUzkos4hFAqiQ96ltlbGgAMzXDgFk-cUNQcySPCVyQZdoTWPIMgOQzdWuedoU1ffzFvI7OBD6wFiIuXWLiEgkZFwQI4AB-lI4qmRYZJYaU3VQtaxSDMvKcs45So9YpFGXU7AhS6Bro2mdcJtHF5Oeu3B5lUE7SYEY6uh4w69kRp1iCRON5uBiVeLP5d1E9soLVfEGnDgy_uB_KNg==\">best practice combine LLM with Notion python</a>\n",
              "    <a class=\"chip\" href=\"https://vertexaisearch.cloud.google.com/grounding-api-redirect/AUBnsYtHO97uGgGWSw3RfN7M5XtIcM-RF3hfMRlswFZ7zIBG6oIIGz2InXs4qE4omEyslQiKOgxfs4YzSfHoCW48EbDFLRD2aNttW6UKrKnRiYnGk2PYXzIqg7jgSCIfcDjNMMBlHKLo7_foPAqCAlyOSbVhfEultmV1sMpX9PVZkllxwIpMMJOub3qXC78RuEUVryEXpUIF86dsaMjg0mY=\">notion api find page id python</a>\n",
              "    <a class=\"chip\" href=\"https://vertexaisearch.cloud.google.com/grounding-api-redirect/AUBnsYvaVg3Xyz1zPWdBAf04KwUIh3l4ghwfrYA_WzTiZ3bd3xtsPDrM3ifX9rsME32E0VRckPnoIRrpqOqgaQ5-NbqBJC1mJshISawAhj5ySRZLBGlqarwYQ8elDCYFTEcz4-FToTNvt3cv-H33cs_g-h5V_6prRvv-QX5sLawUoeVetb6idnTfLMdjXeLzFXckgcs=\">notion get page id</a>\n",
              "  </div>\n",
              "</div>\n"
            ]
          },
          "metadata": {}
        },
        {
          "output_type": "stream",
          "name": "stdout",
          "text": [
            "Report saved to: /content/drive/My Drive/combine_llm_with_notion_20250207_232056.md\n"
          ]
        }
      ]
    },
    {
      "cell_type": "markdown",
      "metadata": {
        "id": "4677dd58e9b5"
      },
      "source": [
        "## Next Steps\n",
        "\n",
        "* To learn more about the search tool, check out the [Search tool documentation](https://ai.google.dev/gemini-api/docs/models/gemini-v2#search-tool).\n",
        "* To get started with streaming, check out the [Streaming Quickstart](../quickstarts/Streaming.ipynb).\n",
        "* To get started with the search tool, check out the [Search tool quick start](../quickstarts/Search_Grounding.ipynb).\n",
        "* To see how much easier and more powerful the search tool in Gemini 2.0 is than the previous search grounding feature, compare this tutorial with the [previous example](../examples/Search_grounding_for_research_report.ipynb).\n",
        "* To learn more about all the new Gemini 2.0 features, check out the [Gemini 2.0 quickstart notebooks](https://github.com/google-gemini/cookbook/tree/main/gemini-2/)."
      ]
    }
  ],
  "metadata": {
    "colab": {
      "name": "Search_grounding_for_research_report.ipynb",
      "toc_visible": true,
      "provenance": []
    },
    "kernelspec": {
      "display_name": "Python 3",
      "name": "python3"
    }
  },
  "nbformat": 4,
  "nbformat_minor": 0
}